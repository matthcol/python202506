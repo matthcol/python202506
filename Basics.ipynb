{
 "cells": [
  {
   "cell_type": "markdown",
   "id": "a7a5a437-c4ff-459e-8528-db227d5ae729",
   "metadata": {},
   "source": [
    "# Python Basics\n",
    "\n",
    "Links:\n",
    "- https://www.python.org/\n",
    "- https://pypi.org/"
   ]
  },
  {
   "cell_type": "code",
   "execution_count": 204,
   "id": "e2baf014-548f-41eb-b0d1-05399c236b30",
   "metadata": {},
   "outputs": [],
   "source": [
    "import math\n",
    "import json\n",
    "import numpy as np\n",
    "import pandas as pd"
   ]
  },
  {
   "cell_type": "markdown",
   "id": "2051abc5-7573-4d95-b50e-8f32663786f0",
   "metadata": {},
   "source": [
    "## 1st Example: Hello World"
   ]
  },
  {
   "cell_type": "code",
   "execution_count": 2,
   "id": "93283239-12e3-44bc-a782-e3adc01b60c9",
   "metadata": {},
   "outputs": [
    {
     "name": "stdout",
     "output_type": "stream",
     "text": [
      "Coucou :)\n"
     ]
    }
   ],
   "source": [
    "print('Coucou :)')"
   ]
  },
  {
   "cell_type": "markdown",
   "id": "bf6b7677-ef54-41ec-9b64-ff38f18e445f",
   "metadata": {},
   "source": [
    "## Variables and basic types\n",
    "### Numeric data\n",
    "- integers: int\n",
    "- floating numbers: float (https://fr.wikipedia.org/wiki/IEEE_754)\n",
    "\n",
    "NB: float type is automatically adapted to the architecture (32 or 64 bits)"
   ]
  },
  {
   "cell_type": "code",
   "execution_count": 3,
   "id": "753385bb-aa11-4213-9255-1a7de4a19d4e",
   "metadata": {},
   "outputs": [
    {
     "data": {
      "text/plain": [
       "4"
      ]
     },
     "execution_count": 3,
     "metadata": {},
     "output_type": "execute_result"
    }
   ],
   "source": [
    "nb_persons = 4\n",
    "nb_persons"
   ]
  },
  {
   "cell_type": "code",
   "execution_count": 4,
   "id": "958da753-6fd4-4fa2-89cb-d7d45b5e8786",
   "metadata": {},
   "outputs": [
    {
     "data": {
      "text/plain": [
       "int"
      ]
     },
     "execution_count": 4,
     "metadata": {},
     "output_type": "execute_result"
    }
   ],
   "source": [
    "type(nb_persons)"
   ]
  },
  {
   "cell_type": "code",
   "execution_count": 5,
   "id": "84450e61-36b8-4b50-ab82-e8ec7ed7063f",
   "metadata": {},
   "outputs": [
    {
     "data": {
      "text/plain": [
       "17.25"
      ]
     },
     "execution_count": 5,
     "metadata": {},
     "output_type": "execute_result"
    }
   ],
   "source": [
    "temperature = 17.25\n",
    "temperature"
   ]
  },
  {
   "cell_type": "code",
   "execution_count": 6,
   "id": "6edfd4d7-8dcd-4c6a-a948-963b753e46b7",
   "metadata": {},
   "outputs": [
    {
     "data": {
      "text/plain": [
       "float"
      ]
     },
     "execution_count": 6,
     "metadata": {},
     "output_type": "execute_result"
    }
   ],
   "source": [
    "type(temperature)"
   ]
  },
  {
   "cell_type": "code",
   "execution_count": 7,
   "id": "9764f7df-f4ba-4164-a024-79c3ac7c1ddf",
   "metadata": {},
   "outputs": [
    {
     "data": {
      "text/plain": [
       "str"
      ]
     },
     "execution_count": 7,
     "metadata": {},
     "output_type": "execute_result"
    }
   ],
   "source": [
    "type('4')"
   ]
  },
  {
   "cell_type": "code",
   "execution_count": 8,
   "id": "c364ebdf-d610-46de-bc76-01fa8628df86",
   "metadata": {},
   "outputs": [
    {
     "data": {
      "text/plain": [
       "str"
      ]
     },
     "execution_count": 8,
     "metadata": {},
     "output_type": "execute_result"
    }
   ],
   "source": [
    "type(\"ceci est 1 texte\")"
   ]
  },
  {
   "cell_type": "code",
   "execution_count": 9,
   "id": "8cb6b053-0e4e-4e12-a36a-6a34179329b5",
   "metadata": {},
   "outputs": [
    {
     "data": {
      "text/plain": [
       "5"
      ]
     },
     "execution_count": 9,
     "metadata": {},
     "output_type": "execute_result"
    }
   ],
   "source": [
    "nb_persons = 5\n",
    "nb_persons"
   ]
  },
  {
   "cell_type": "code",
   "execution_count": 10,
   "id": "917c3d0c-2e0f-41df-ad69-2884ad913038",
   "metadata": {},
   "outputs": [
    {
     "data": {
      "text/plain": [
       "50"
      ]
     },
     "execution_count": 10,
     "metadata": {},
     "output_type": "execute_result"
    }
   ],
   "source": [
    "nb_persons * 10"
   ]
  },
  {
   "cell_type": "code",
   "execution_count": 11,
   "id": "79257130-95ac-4df5-977a-af867924e3ae",
   "metadata": {},
   "outputs": [
    {
     "data": {
      "text/plain": [
       "50"
      ]
     },
     "execution_count": 11,
     "metadata": {},
     "output_type": "execute_result"
    }
   ],
   "source": [
    "nb_persons_total = nb_persons * 10\n",
    "nb_persons_total"
   ]
  },
  {
   "cell_type": "code",
   "execution_count": 12,
   "id": "dc2ca88e-a1d6-4ffc-b9bf-a2435892a238",
   "metadata": {},
   "outputs": [
    {
     "data": {
      "text/plain": [
       "8"
      ]
     },
     "execution_count": 12,
     "metadata": {},
     "output_type": "execute_result"
    }
   ],
   "source": [
    "(nb_persons - 3) * 2 + 4 "
   ]
  },
  {
   "cell_type": "code",
   "execution_count": 13,
   "id": "09769356-2187-4045-8f9c-1065bd7f42ff",
   "metadata": {},
   "outputs": [
    {
     "data": {
      "text/plain": [
       "4.166666666666667"
      ]
     },
     "execution_count": 13,
     "metadata": {},
     "output_type": "execute_result"
    }
   ],
   "source": [
    "# division => float\n",
    "nb_persons_total / 12"
   ]
  },
  {
   "cell_type": "code",
   "execution_count": 14,
   "id": "705dff6a-5b2e-419f-8b77-e0f6ba343050",
   "metadata": {},
   "outputs": [
    {
     "data": {
      "text/plain": [
       "4"
      ]
     },
     "execution_count": 14,
     "metadata": {},
     "output_type": "execute_result"
    }
   ],
   "source": [
    "# quotient\n",
    "nb_persons_total // 12"
   ]
  },
  {
   "cell_type": "code",
   "execution_count": 15,
   "id": "da6bcc6c-9385-4213-94fd-6cf22a97bac3",
   "metadata": {},
   "outputs": [
    {
     "data": {
      "text/plain": [
       "2"
      ]
     },
     "execution_count": 15,
     "metadata": {},
     "output_type": "execute_result"
    }
   ],
   "source": [
    "# reminder:\n",
    "nb_persons_total % 12"
   ]
  },
  {
   "cell_type": "code",
   "execution_count": 16,
   "id": "84b6bc1f-b730-494a-9df9-b1b8cfca8c10",
   "metadata": {},
   "outputs": [
    {
     "data": {
      "text/plain": [
       "(4, 2)"
      ]
     },
     "execution_count": 16,
     "metadata": {},
     "output_type": "execute_result"
    }
   ],
   "source": [
    "# quotient + reminder\n",
    "divmod(nb_persons_total, 12)"
   ]
  },
  {
   "cell_type": "code",
   "execution_count": 17,
   "id": "6f45e574-2748-4c28-aab6-8de6e48a78c4",
   "metadata": {},
   "outputs": [
    {
     "data": {
      "text/plain": [
       "50"
      ]
     },
     "execution_count": 17,
     "metadata": {},
     "output_type": "execute_result"
    }
   ],
   "source": [
    "nb_persons_total"
   ]
  },
  {
   "cell_type": "code",
   "execution_count": 18,
   "id": "ed292769-6a58-4626-b2a4-c30522213119",
   "metadata": {},
   "outputs": [
    {
     "data": {
      "text/plain": [
       "1024"
      ]
     },
     "execution_count": 18,
     "metadata": {},
     "output_type": "execute_result"
    }
   ],
   "source": [
    "# power operator\n",
    "2**10"
   ]
  },
  {
   "cell_type": "code",
   "execution_count": 19,
   "id": "654aa374-2055-4a25-b62c-12ddb2013fd5",
   "metadata": {},
   "outputs": [
    {
     "data": {
      "text/plain": [
       "0.0625"
      ]
     },
     "execution_count": 19,
     "metadata": {},
     "output_type": "execute_result"
    }
   ],
   "source": [
    "# 1/16e\n",
    "2**-4"
   ]
  },
  {
   "cell_type": "code",
   "execution_count": 20,
   "id": "e549c4bc-4e32-45b8-98fe-bac3c04f7fd5",
   "metadata": {},
   "outputs": [
    {
     "data": {
      "text/plain": [
       "22.25"
      ]
     },
     "execution_count": 20,
     "metadata": {},
     "output_type": "execute_result"
    }
   ],
   "source": [
    "# weird computation: float, int -> float\n",
    "temperature + nb_persons"
   ]
  },
  {
   "cell_type": "markdown",
   "id": "83f82998-02e0-4f52-b7c1-e963451bd9b4",
   "metadata": {},
   "source": [
    "#### `math` module\n",
    "This module from the standard library provides mathematical functions and constants"
   ]
  },
  {
   "cell_type": "code",
   "execution_count": 21,
   "id": "7e6eb688-bd7e-4e0d-98b3-2bfa95eabb15",
   "metadata": {},
   "outputs": [
    {
     "data": {
      "text/plain": [
       "5"
      ]
     },
     "execution_count": 21,
     "metadata": {},
     "output_type": "execute_result"
    }
   ],
   "source": [
    "math.ceil(math.sqrt(temperature))"
   ]
  },
  {
   "cell_type": "code",
   "execution_count": 22,
   "id": "bcc37636-8bfd-43bd-a3d6-4bb187a5b545",
   "metadata": {},
   "outputs": [
    {
     "data": {
      "text/plain": [
       "<function math.ceil(x, /)>"
      ]
     },
     "execution_count": 22,
     "metadata": {},
     "output_type": "execute_result"
    }
   ],
   "source": [
    "math.ceil"
   ]
  },
  {
   "cell_type": "code",
   "execution_count": 23,
   "id": "1eac3f88-4289-40f8-8d7a-7dd379d6be0d",
   "metadata": {},
   "outputs": [
    {
     "data": {
      "text/plain": [
       "\u001b[31mSignature:\u001b[39m math.ceil(x, /)\n",
       "\u001b[31mDocstring:\u001b[39m\n",
       "Return the ceiling of x as an Integral.\n",
       "\n",
       "This is the smallest integer >= x.\n",
       "\u001b[31mType:\u001b[39m      builtin_function_or_method"
      ]
     },
     "metadata": {},
     "output_type": "display_data"
    }
   ],
   "source": [
    "math.ceil?"
   ]
  },
  {
   "cell_type": "code",
   "execution_count": 24,
   "id": "3c0e490b-ad7d-4f23-9113-1c16934c77b2",
   "metadata": {},
   "outputs": [
    {
     "data": {
      "text/plain": [
       "3.141592653589793"
      ]
     },
     "execution_count": 24,
     "metadata": {},
     "output_type": "execute_result"
    }
   ],
   "source": [
    "math.pi"
   ]
  },
  {
   "cell_type": "markdown",
   "id": "74415c1a-58bf-4aef-987c-0ff6267cd18e",
   "metadata": {},
   "source": [
    "#### Float precision"
   ]
  },
  {
   "cell_type": "code",
   "execution_count": 25,
   "id": "ce87e209-dfbd-4c73-9786-b8d8a3f04d62",
   "metadata": {},
   "outputs": [
    {
     "data": {
      "text/plain": [
       "0.1"
      ]
     },
     "execution_count": 25,
     "metadata": {},
     "output_type": "execute_result"
    }
   ],
   "source": [
    "# base 2: 0.000110011001100110011001100110011...\n",
    "price = 0.1\n",
    "price"
   ]
  },
  {
   "cell_type": "code",
   "execution_count": 26,
   "id": "a8ef4dda-7b6c-47ea-822c-3af30bfb6193",
   "metadata": {},
   "outputs": [
    {
     "data": {
      "text/plain": [
       "0.2"
      ]
     },
     "execution_count": 26,
     "metadata": {},
     "output_type": "execute_result"
    }
   ],
   "source": [
    "2*price"
   ]
  },
  {
   "cell_type": "code",
   "execution_count": 27,
   "id": "50640e8a-a205-4821-aaaf-3d3e8aa1d983",
   "metadata": {},
   "outputs": [
    {
     "data": {
      "text/plain": [
       "0.30000000000000004"
      ]
     },
     "execution_count": 27,
     "metadata": {},
     "output_type": "execute_result"
    }
   ],
   "source": [
    "3*price"
   ]
  },
  {
   "cell_type": "markdown",
   "id": "c4c8d927-08e6-4b13-9cea-26111d08ad77",
   "metadata": {},
   "source": [
    "#### Special floats"
   ]
  },
  {
   "cell_type": "code",
   "execution_count": 28,
   "id": "eb76ddaf-9f32-4818-84a0-c1bfce6e3e9b",
   "metadata": {},
   "outputs": [
    {
     "data": {
      "text/plain": [
       "1e+308"
      ]
     },
     "execution_count": 28,
     "metadata": {},
     "output_type": "execute_result"
    }
   ],
   "source": [
    "# very big number as a float\n",
    "big_number = 1E308\n",
    "big_number"
   ]
  },
  {
   "cell_type": "code",
   "execution_count": 29,
   "id": "e4bcb95b-7cf5-49d3-90b6-eac417ecee54",
   "metadata": {},
   "outputs": [
    {
     "data": {
      "text/plain": [
       "inf"
      ]
     },
     "execution_count": 29,
     "metadata": {},
     "output_type": "execute_result"
    }
   ],
   "source": [
    "x = big_number * 2\n",
    "x"
   ]
  },
  {
   "cell_type": "code",
   "execution_count": 30,
   "id": "1e2fc56d-bd84-439f-88ae-e7c47e13077e",
   "metadata": {},
   "outputs": [
    {
     "data": {
      "text/plain": [
       "1e-308"
      ]
     },
     "execution_count": 30,
     "metadata": {},
     "output_type": "execute_result"
    }
   ],
   "source": [
    "1E-308"
   ]
  },
  {
   "cell_type": "code",
   "execution_count": 31,
   "id": "7c75127a-18b6-4c01-bf35-6e351fe9cf63",
   "metadata": {},
   "outputs": [
    {
     "data": {
      "text/plain": [
       "nan"
      ]
     },
     "execution_count": 31,
     "metadata": {},
     "output_type": "execute_result"
    }
   ],
   "source": [
    "x / x"
   ]
  },
  {
   "cell_type": "code",
   "execution_count": 32,
   "id": "7db37f8b-ff83-4671-89bf-8ba8506cf78d",
   "metadata": {},
   "outputs": [
    {
     "data": {
      "text/plain": [
       "inf"
      ]
     },
     "execution_count": 32,
     "metadata": {},
     "output_type": "execute_result"
    }
   ],
   "source": [
    "float('inf')"
   ]
  },
  {
   "cell_type": "code",
   "execution_count": 33,
   "id": "b98d5d27-0277-4f00-a4d2-50483b3cb4e8",
   "metadata": {},
   "outputs": [
    {
     "data": {
      "text/plain": [
       "inf"
      ]
     },
     "execution_count": 33,
     "metadata": {},
     "output_type": "execute_result"
    }
   ],
   "source": [
    "math.inf"
   ]
  },
  {
   "cell_type": "code",
   "execution_count": 34,
   "id": "7d95fe4d-57bf-47cf-8930-5f66ff9a8c55",
   "metadata": {},
   "outputs": [
    {
     "data": {
      "text/plain": [
       "nan"
      ]
     },
     "execution_count": 34,
     "metadata": {},
     "output_type": "execute_result"
    }
   ],
   "source": [
    "math.nan"
   ]
  },
  {
   "cell_type": "code",
   "execution_count": 35,
   "id": "d650af9c-cb27-450e-b0d9-c2f05d2959e0",
   "metadata": {},
   "outputs": [
    {
     "data": {
      "text/plain": [
       "nan"
      ]
     },
     "execution_count": 35,
     "metadata": {},
     "output_type": "execute_result"
    }
   ],
   "source": [
    "0 * math.nan"
   ]
  },
  {
   "cell_type": "code",
   "execution_count": 36,
   "id": "9a4e9b09-dfef-477e-a38a-0b7dd89a3322",
   "metadata": {},
   "outputs": [
    {
     "data": {
      "text/plain": [
       "18446744073709551615"
      ]
     },
     "execution_count": 36,
     "metadata": {},
     "output_type": "execute_result"
    }
   ],
   "source": [
    "2**64 - 1"
   ]
  },
  {
   "cell_type": "code",
   "execution_count": 37,
   "id": "6872b795-c65c-45c2-95f9-461f32c56896",
   "metadata": {},
   "outputs": [
    {
     "data": {
      "text/plain": [
       "123000000000000000000000000000000000000000000000000000000000000000000000000000000000000000000000000000000000000000000000000000000000000000000000000000000000000000000000000000000000000000000000000000000000000000000000000000000000000000000000000000000000000000000000000000000000000000000000000000000000000000000000000000000000000000000000000000000000000004"
      ]
     },
     "execution_count": 37,
     "metadata": {},
     "output_type": "execute_result"
    }
   ],
   "source": [
    "big_counter = 123000000000000000000000000000000000000000000000000000000000000000000000000000000000000000000000000000000000000000000000000000000000000000000000000000000000000000000000000000000000000000000000000000000000000000000000000000000000000000000000000000000000000000000000000000000000000000000000000000000000000000000000000000000000000000000000000000000000000004\n",
    "big_counter"
   ]
  },
  {
   "cell_type": "code",
   "execution_count": 38,
   "id": "7718be60-fafa-42f7-a33e-bb12b4ed15ba",
   "metadata": {},
   "outputs": [
    {
     "data": {
      "text/plain": [
       "123000000000000000000000000000000000000000000000000000000000000000000000000000000000000000000000000000000000000000000000000000000000000000000000000000000000000000000000000000000000000000000000000000000000000000000000000000000000000000000000000000000000000000000000000000000000000000000000000000000000000000000000000000000000000000000000000000000000000005"
      ]
     },
     "execution_count": 38,
     "metadata": {},
     "output_type": "execute_result"
    }
   ],
   "source": [
    "big_counter + 1"
   ]
  },
  {
   "cell_type": "markdown",
   "id": "392b06ed-88e3-4d25-9fc7-66c9d6d8b445",
   "metadata": {},
   "source": [
    "#### Numpy alternative\n",
    "- integers: int8, int16, int32, int64, ..., uint8, uint16, ...\n",
    "- floats: float32, float64, ..."
   ]
  },
  {
   "cell_type": "code",
   "execution_count": 39,
   "id": "59d10ab0-4913-44a0-b31f-94e7207d7a6e",
   "metadata": {},
   "outputs": [
    {
     "data": {
      "text/plain": [
       "array([1, 1, 1, 1, 1, 1, 1, 1], dtype=uint8)"
      ]
     },
     "execution_count": 39,
     "metadata": {},
     "output_type": "execute_result"
    }
   ],
   "source": [
    "data = np.ones(8, dtype='uint8')\n",
    "data"
   ]
  },
  {
   "cell_type": "code",
   "execution_count": 40,
   "id": "bb25fbae-487d-4e86-9108-7974cff0b540",
   "metadata": {},
   "outputs": [
    {
     "data": {
      "text/plain": [
       "int"
      ]
     },
     "execution_count": 40,
     "metadata": {},
     "output_type": "execute_result"
    }
   ],
   "source": [
    "value = 255\n",
    "type(value)"
   ]
  },
  {
   "cell_type": "code",
   "execution_count": 41,
   "id": "9631486d-2dd6-4ffd-8946-c095a59bca77",
   "metadata": {},
   "outputs": [
    {
     "data": {
      "text/plain": [
       "array([255,   1,   1,   1,   1,   1,   1,   1], dtype=uint8)"
      ]
     },
     "execution_count": 41,
     "metadata": {},
     "output_type": "execute_result"
    }
   ],
   "source": [
    "data[0] = value\n",
    "data"
   ]
  },
  {
   "cell_type": "code",
   "execution_count": 42,
   "id": "8cf6d452-efe7-46b4-ad47-e38aaeec230c",
   "metadata": {},
   "outputs": [
    {
     "name": "stdout",
     "output_type": "stream",
     "text": [
      "[255   1   1   1   1   1   1   1]\n"
     ]
    }
   ],
   "source": [
    "print(data)"
   ]
  },
  {
   "cell_type": "code",
   "execution_count": 43,
   "id": "ab78e313-fcc8-458a-9731-e0f1185a2b7f",
   "metadata": {},
   "outputs": [
    {
     "data": {
      "text/plain": [
       "dtype('uint8')"
      ]
     },
     "execution_count": 43,
     "metadata": {},
     "output_type": "execute_result"
    }
   ],
   "source": [
    "data.dtype"
   ]
  },
  {
   "cell_type": "markdown",
   "id": "147f5059-018e-45fd-9faa-d3147adb88d3",
   "metadata": {},
   "source": [
    "### Text\n",
    "type str"
   ]
  },
  {
   "cell_type": "code",
   "execution_count": 44,
   "id": "384673e4-4d68-4dd7-8979-86ac6496ce42",
   "metadata": {},
   "outputs": [],
   "source": [
    "city1 = 'Saint-Orens-de-Gameville'\n",
    "city2 = \"Revel\"\n",
    "city3 = 'Roquettes'\n",
    "city4 = \"Pau\""
   ]
  },
  {
   "cell_type": "code",
   "execution_count": 45,
   "id": "5abc0e94-305e-4393-90aa-608a9967a1f1",
   "metadata": {},
   "outputs": [
    {
     "data": {
      "text/plain": [
       "\"Aujourd'hui\""
      ]
     },
     "execution_count": 45,
     "metadata": {},
     "output_type": "execute_result"
    }
   ],
   "source": [
    "\"Aujourd'hui\""
   ]
  },
  {
   "cell_type": "code",
   "execution_count": 46,
   "id": "f43b504c-2f97-4cfc-8714-46fcc136b0a4",
   "metadata": {},
   "outputs": [
    {
     "data": {
      "text/plain": [
       "'Aujourd\\'hui, je dis: \"il fait beau !\"'"
      ]
     },
     "execution_count": 46,
     "metadata": {},
     "output_type": "execute_result"
    }
   ],
   "source": [
    "text = 'Aujourd\\'hui, je dis: \"il fait beau !\"'\n",
    "text"
   ]
  },
  {
   "cell_type": "code",
   "execution_count": 47,
   "id": "12737d1c-d785-4c0c-b339-a83426acda79",
   "metadata": {},
   "outputs": [
    {
     "name": "stdout",
     "output_type": "stream",
     "text": [
      "Aujourd'hui, je dis: \"il fait beau !\"\n"
     ]
    }
   ],
   "source": [
    "print(text)"
   ]
  },
  {
   "cell_type": "code",
   "execution_count": 48,
   "id": "2ce336fc-192d-4123-ac6c-2994bd80c72d",
   "metadata": {},
   "outputs": [
    {
     "data": {
      "text/plain": [
       "str"
      ]
     },
     "execution_count": 48,
     "metadata": {},
     "output_type": "execute_result"
    }
   ],
   "source": [
    "type(city1)"
   ]
  },
  {
   "cell_type": "code",
   "execution_count": 49,
   "id": "ecd093ff-3f58-41d6-8f42-ca2bd5a9e2af",
   "metadata": {},
   "outputs": [
    {
     "data": {
      "text/plain": [
       "'Saint-Orens-de-Gameville, Revel'"
      ]
     },
     "execution_count": 49,
     "metadata": {},
     "output_type": "execute_result"
    }
   ],
   "source": [
    "# concatenate: +\n",
    "city1 + ', ' + city2"
   ]
  },
  {
   "cell_type": "code",
   "execution_count": 50,
   "id": "38ac23be-f821-45a7-8196-a70e9eccacfa",
   "metadata": {},
   "outputs": [
    {
     "data": {
      "text/plain": [
       "'S'"
      ]
     },
     "execution_count": 50,
     "metadata": {},
     "output_type": "execute_result"
    }
   ],
   "source": [
    "city1[0]"
   ]
  },
  {
   "cell_type": "code",
   "execution_count": 51,
   "id": "9d3b54e7-98ab-4527-9dd4-eb637781983e",
   "metadata": {},
   "outputs": [
    {
     "data": {
      "text/plain": [
       "24"
      ]
     },
     "execution_count": 51,
     "metadata": {},
     "output_type": "execute_result"
    }
   ],
   "source": [
    "n = len(city1)\n",
    "n"
   ]
  },
  {
   "cell_type": "code",
   "execution_count": 52,
   "id": "90c9f03d-d38d-4f60-9063-dac06ebb362a",
   "metadata": {},
   "outputs": [
    {
     "data": {
      "text/plain": [
       "'e'"
      ]
     },
     "execution_count": 52,
     "metadata": {},
     "output_type": "execute_result"
    }
   ],
   "source": [
    "city1[n-1]"
   ]
  },
  {
   "cell_type": "code",
   "execution_count": 53,
   "id": "671105f1-c44c-49f0-873c-0040d6fda78a",
   "metadata": {},
   "outputs": [],
   "source": [
    "# city1[n]\n",
    "# => IndexError: string index out of range"
   ]
  },
  {
   "cell_type": "code",
   "execution_count": 54,
   "id": "a10c180f-ccba-4d6f-97dc-488ea896509f",
   "metadata": {},
   "outputs": [
    {
     "data": {
      "text/plain": [
       "'e'"
      ]
     },
     "execution_count": 54,
     "metadata": {},
     "output_type": "execute_result"
    }
   ],
   "source": [
    "# last character\n",
    "city1[-1]"
   ]
  },
  {
   "cell_type": "code",
   "execution_count": 55,
   "id": "c6db8f53-8d53-4c50-bfdb-4eb3b4ec21b7",
   "metadata": {},
   "outputs": [
    {
     "data": {
      "text/plain": [
       "'S'"
      ]
     },
     "execution_count": 55,
     "metadata": {},
     "output_type": "execute_result"
    }
   ],
   "source": [
    "city1[-n]"
   ]
  },
  {
   "cell_type": "code",
   "execution_count": 56,
   "id": "14a93c5e-7f77-4618-8179-fca37552c179",
   "metadata": {},
   "outputs": [],
   "source": [
    "# TypeError: 'str' object does not support item assignment\n",
    "# city1[0] = 'T'"
   ]
  },
  {
   "cell_type": "markdown",
   "id": "eb966d67-2c57-4ad5-9204-f4c63a95143b",
   "metadata": {},
   "source": [
    "#### Slices"
   ]
  },
  {
   "cell_type": "code",
   "execution_count": 57,
   "id": "00c0fe87-998d-4645-a9fa-60e5e95b4652",
   "metadata": {},
   "outputs": [
    {
     "name": "stdout",
     "output_type": "stream",
     "text": [
      "Saint-\n",
      "Orens\n",
      "-de-Gameville\n"
     ]
    }
   ],
   "source": [
    "print(city1[:6])\n",
    "print(city1[6:11])\n",
    "print(city1[11:])"
   ]
  },
  {
   "cell_type": "code",
   "execution_count": 58,
   "id": "ff669d87-a2cb-4025-980c-9195d3c5ad86",
   "metadata": {},
   "outputs": [
    {
     "name": "stdout",
     "output_type": "stream",
     "text": [
      "n-rn-eGmv\n",
      "SitOesd-aeil\n",
      "an-rn-eGmvle\n",
      "ellivemaG-ed-snerO-tniaS\n"
     ]
    }
   ],
   "source": [
    "# slice with step\n",
    "print(city1[3:20:2])\n",
    "print(city1[::2]) # even indexes\n",
    "print(city1[1::2]) # odd indexes\n",
    "print(city1[::-1])"
   ]
  },
  {
   "cell_type": "code",
   "execution_count": 59,
   "id": "6479d58b-38a8-4b48-bebd-345dc3256816",
   "metadata": {},
   "outputs": [
    {
     "data": {
      "text/plain": [
       "array([  1,   1,   1,   1,   1,   1,   1, 255], dtype=uint8)"
      ]
     },
     "execution_count": 59,
     "metadata": {},
     "output_type": "execute_result"
    }
   ],
   "source": [
    "# slices are working with numpy arrays too\n",
    "data[::-1]"
   ]
  },
  {
   "cell_type": "code",
   "execution_count": 60,
   "id": "99155e96-ee2a-4b81-adfa-525beed8b547",
   "metadata": {},
   "outputs": [
    {
     "data": {
      "text/plain": [
       "'Taint-Orens-de-Gameville'"
      ]
     },
     "execution_count": 60,
     "metadata": {},
     "output_type": "execute_result"
    }
   ],
   "source": [
    "# Solution: create a new string\n",
    "'T' + city1[1:]"
   ]
  },
  {
   "cell_type": "code",
   "execution_count": 61,
   "id": "9d77a508-d235-4a90-8157-cd8124ffcf33",
   "metadata": {},
   "outputs": [
    {
     "data": {
      "text/plain": [
       "'Saint-Orens-de-Gameville'"
      ]
     },
     "execution_count": 61,
     "metadata": {},
     "output_type": "execute_result"
    }
   ],
   "source": [
    "# shared reference\n",
    "city1bis = city1\n",
    "city1bis"
   ]
  },
  {
   "cell_type": "code",
   "execution_count": 62,
   "id": "7119f52c-c9e4-4050-b5fd-d0d318bcbbde",
   "metadata": {},
   "outputs": [
    {
     "data": {
      "text/plain": [
       "'Taint-Orens-de-Gameville'"
      ]
     },
     "execution_count": 62,
     "metadata": {},
     "output_type": "execute_result"
    }
   ],
   "source": [
    "# city1 references the new string\n",
    "city1 = 'T' + city1[1:]\n",
    "city1"
   ]
  },
  {
   "cell_type": "code",
   "execution_count": 63,
   "id": "9c625821-fa2b-4e16-a4df-8dbd5939a428",
   "metadata": {},
   "outputs": [
    {
     "name": "stdout",
     "output_type": "stream",
     "text": [
      "Taint-Orens-de-Gameville\n",
      "Saint-Orens-de-Gameville\n"
     ]
    }
   ],
   "source": [
    "print(city1)\n",
    "print(city1bis)"
   ]
  },
  {
   "cell_type": "markdown",
   "id": "10157220-3086-43b9-920c-1c09f19fa7e0",
   "metadata": {},
   "source": [
    "#### Methods of type str\n",
    "Try these ones:\n",
    "- split\n",
    "- lower, upper\n",
    "- startswith, endswith, contains?\n",
    "- find, index"
   ]
  },
  {
   "cell_type": "code",
   "execution_count": 64,
   "id": "367209cf-2cc8-40e6-96ec-5c79d0d9ae45",
   "metadata": {},
   "outputs": [
    {
     "data": {
      "text/plain": [
       "['Saint', 'Orens', 'de', 'Gameville']"
      ]
     },
     "execution_count": 64,
     "metadata": {},
     "output_type": "execute_result"
    }
   ],
   "source": [
    "words = city1bis.split('-')\n",
    "words"
   ]
  },
  {
   "cell_type": "code",
   "execution_count": 65,
   "id": "cf21f574-63ff-427e-93e8-0df2702f2e5f",
   "metadata": {},
   "outputs": [
    {
     "data": {
      "text/plain": [
       "list"
      ]
     },
     "execution_count": 65,
     "metadata": {},
     "output_type": "execute_result"
    }
   ],
   "source": [
    "type(words)"
   ]
  },
  {
   "cell_type": "code",
   "execution_count": 66,
   "id": "35da11c5-3a3f-4829-a77f-63cbef591cab",
   "metadata": {},
   "outputs": [
    {
     "data": {
      "text/plain": [
       "12"
      ]
     },
     "execution_count": 66,
     "metadata": {},
     "output_type": "execute_result"
    }
   ],
   "source": [
    "city1.index('de')"
   ]
  },
  {
   "cell_type": "code",
   "execution_count": 67,
   "id": "83ae99aa-7a94-4722-a806-aeeb7d853369",
   "metadata": {},
   "outputs": [
    {
     "data": {
      "text/plain": [
       "'SAINT-ORENS-DE-GAMEVILLE'"
      ]
     },
     "execution_count": 67,
     "metadata": {},
     "output_type": "execute_result"
    }
   ],
   "source": [
    "city1bis.upper()"
   ]
  },
  {
   "cell_type": "code",
   "execution_count": 68,
   "id": "b7ef3003-bb18-4609-87ee-c6b4c52342c3",
   "metadata": {},
   "outputs": [
    {
     "data": {
      "text/plain": [
       "True"
      ]
     },
     "execution_count": 68,
     "metadata": {},
     "output_type": "execute_result"
    }
   ],
   "source": [
    "# NB: contains is not a str method => operator 'in'\n",
    "'de' in city1 "
   ]
  },
  {
   "cell_type": "code",
   "execution_count": 69,
   "id": "4f653b9c-8f73-4b69-85e5-462b40ad816c",
   "metadata": {},
   "outputs": [
    {
     "data": {
      "text/plain": [
       "False"
      ]
     },
     "execution_count": 69,
     "metadata": {},
     "output_type": "execute_result"
    }
   ],
   "source": [
    "city1.endswith('z')"
   ]
  },
  {
   "cell_type": "markdown",
   "id": "5335eeb5-d895-4a47-a132-a717ca299f7b",
   "metadata": {},
   "source": [
    "### Boolean\n",
    "type bool"
   ]
  },
  {
   "cell_type": "code",
   "execution_count": 70,
   "id": "9e0e23dc-d5b7-47b6-9213-e53dd91739f4",
   "metadata": {},
   "outputs": [
    {
     "data": {
      "text/plain": [
       "bool"
      ]
     },
     "execution_count": 70,
     "metadata": {},
     "output_type": "execute_result"
    }
   ],
   "source": [
    "type(True)"
   ]
  },
  {
   "cell_type": "markdown",
   "id": "dad1cf76-e3ee-4cef-b185-0972d0088c67",
   "metadata": {},
   "source": [
    "### None"
   ]
  },
  {
   "cell_type": "code",
   "execution_count": 71,
   "id": "33ae7a0a-2727-4dca-8765-59cb765ccd6c",
   "metadata": {},
   "outputs": [],
   "source": [
    "x = None"
   ]
  },
  {
   "cell_type": "code",
   "execution_count": 72,
   "id": "9bb52e78-07f3-4a63-8043-1014d64c1af7",
   "metadata": {},
   "outputs": [
    {
     "name": "stdout",
     "output_type": "stream",
     "text": [
      "None\n"
     ]
    },
    {
     "data": {
      "text/plain": [
       "NoneType"
      ]
     },
     "execution_count": 72,
     "metadata": {},
     "output_type": "execute_result"
    }
   ],
   "source": [
    "print(x)\n",
    "type(x)"
   ]
  },
  {
   "cell_type": "code",
   "execution_count": 73,
   "id": "5ac6dc5a-efe5-461f-b906-1063e274bc10",
   "metadata": {},
   "outputs": [
    {
     "data": {
      "text/plain": [
       "True"
      ]
     },
     "execution_count": 73,
     "metadata": {},
     "output_type": "execute_result"
    }
   ],
   "source": [
    "x is None"
   ]
  },
  {
   "cell_type": "code",
   "execution_count": 74,
   "id": "ec6df73b-58b7-4114-a7f0-4b0193993fba",
   "metadata": {},
   "outputs": [
    {
     "data": {
      "text/plain": [
       "False"
      ]
     },
     "execution_count": 74,
     "metadata": {},
     "output_type": "execute_result"
    }
   ],
   "source": [
    "x is not None"
   ]
  },
  {
   "cell_type": "markdown",
   "id": "cd073a3c-2712-4394-a20e-fb3665824176",
   "metadata": {},
   "source": [
    "### Summary\n",
    "Basic types list:\n",
    "\n",
    "- int, float, complex\n",
    "- str\n",
    "- bool\n",
    "- NoneType"
   ]
  },
  {
   "cell_type": "markdown",
   "id": "5af0ac15-1a64-4377-ae6f-4f282334cd4f",
   "metadata": {},
   "source": [
    "## Containers\n",
    "- list : `[]`\n",
    "- tuple : `()` or nothing\n",
    "- dict : `{}`\n",
    "- set : `{}`"
   ]
  },
  {
   "cell_type": "markdown",
   "id": "f7b7199c-dca3-47bc-b436-b4b390ec7bb6",
   "metadata": {},
   "source": [
    "### Lists\n",
    "- type `list`\n",
    "- build with `[]` or function `list`"
   ]
  },
  {
   "cell_type": "code",
   "execution_count": 75,
   "id": "05a347c6-7ba1-4f53-bdb1-e5563b791275",
   "metadata": {},
   "outputs": [
    {
     "data": {
      "text/plain": [
       "['Saint-Orens-de-Gameville', 'Revel', 'Roquettes', 'Pau']"
      ]
     },
     "execution_count": 75,
     "metadata": {},
     "output_type": "execute_result"
    }
   ],
   "source": [
    "cities = [city1bis, city2, city3, city4]\n",
    "cities"
   ]
  },
  {
   "cell_type": "code",
   "execution_count": 76,
   "id": "dd910f28-5ecf-4bd4-9107-752ae12390b6",
   "metadata": {},
   "outputs": [
    {
     "data": {
      "text/plain": [
       "list"
      ]
     },
     "execution_count": 76,
     "metadata": {},
     "output_type": "execute_result"
    }
   ],
   "source": [
    "type(cities)"
   ]
  },
  {
   "cell_type": "markdown",
   "id": "1a4a6ff1-2d68-4cc5-ac61-d384e3c4fdc6",
   "metadata": {},
   "source": [
    "### Foreach loop"
   ]
  },
  {
   "cell_type": "code",
   "execution_count": 77,
   "id": "f0b4dda3-cc36-4233-ae8f-1e523a5f5442",
   "metadata": {},
   "outputs": [
    {
     "name": "stdout",
     "output_type": "stream",
     "text": [
      "Saint-Orens-de-Gameville\n",
      "Revel\n",
      "Roquettes\n",
      "Pau\n"
     ]
    }
   ],
   "source": [
    "for city in cities:\n",
    "    print(city)"
   ]
  },
  {
   "cell_type": "code",
   "execution_count": 78,
   "id": "24d37561-a5de-400e-bc80-e1278cefa86c",
   "metadata": {},
   "outputs": [
    {
     "name": "stdout",
     "output_type": "stream",
     "text": [
      "City number: 4\n",
      "\n",
      "Saint-Orens-de-Gameville\n",
      " - upper: SAINT-ORENS-DE-GAMEVILLE\n",
      " - starts with R: False\n",
      "Revel\n",
      " - upper: REVEL\n",
      " - starts with R: True\n",
      "Roquettes\n",
      " - upper: ROQUETTES\n",
      " - starts with R: True\n",
      "Pau\n",
      " - upper: PAU\n",
      " - starts with R: False\n"
     ]
    }
   ],
   "source": [
    "print('City number:', len(cities))\n",
    "print()\n",
    "for city in cities:\n",
    "    print(city)\n",
    "    print(' - upper:', city.upper())\n",
    "    print(' - starts with R:', city.startswith('R'))"
   ]
  },
  {
   "cell_type": "code",
   "execution_count": 79,
   "id": "66493a42-cb60-4c2b-bc85-0d38c3824d70",
   "metadata": {},
   "outputs": [
    {
     "name": "stdout",
     "output_type": "stream",
     "text": [
      "Saint-Orens-de-Gameville Revel Roquettes Pau\n"
     ]
    }
   ],
   "source": [
    "print(city1bis, city2, city3, city4)"
   ]
  },
  {
   "cell_type": "code",
   "execution_count": 80,
   "id": "9f156512-9346-4b3e-885d-45dccb4216a1",
   "metadata": {},
   "outputs": [
    {
     "name": "stdout",
     "output_type": "stream",
     "text": [
      "Saint-Orens-de-Gameville, Revel, Roquettes, Pau\n"
     ]
    }
   ],
   "source": [
    "print(city1bis, city2, city3, city4, sep=', ')"
   ]
  },
  {
   "cell_type": "markdown",
   "id": "45bef93d-3b0a-4b73-aef1-876d3beadf1e",
   "metadata": {},
   "source": [
    "### Iterable\n",
    "An iterable object defines an implicit iteration on its elements\n",
    "- All python containers are iterable\n",
    "- Strings are iterable\n",
    "- a Range object"
   ]
  },
  {
   "cell_type": "code",
   "execution_count": 81,
   "id": "19750555-983e-40ef-a0b6-6269d5adbfc9",
   "metadata": {},
   "outputs": [
    {
     "name": "stdout",
     "output_type": "stream",
     "text": [
      "S   a   i   n   t   -   O   r   e   n   s   -   d   e   -   G   a   m   e   v   i   l   l   e   "
     ]
    }
   ],
   "source": [
    "for letter in city1bis:\n",
    "    print(letter, end='   ')"
   ]
  },
  {
   "cell_type": "code",
   "execution_count": 82,
   "id": "4273c2ba-52ed-4db0-bb1a-16391b26a220",
   "metadata": {},
   "outputs": [
    {
     "name": "stdout",
     "output_type": "stream",
     "text": [
      "1\n",
      "2\n",
      "3\n",
      "4\n",
      "5\n",
      "6\n",
      "7\n",
      "8\n",
      "9\n",
      "10\n"
     ]
    }
   ],
   "source": [
    "for i in range(1, 11):\n",
    "    print(i)"
   ]
  },
  {
   "cell_type": "code",
   "execution_count": 83,
   "id": "0a0e4567-1627-4acf-92f2-880b16d478a9",
   "metadata": {},
   "outputs": [
    {
     "name": "stdout",
     "output_type": "stream",
     "text": [
      "1\n",
      "2\n",
      "3\n",
      "4\n",
      "5\n",
      "6\n",
      "7\n",
      "8\n",
      "9\n",
      "10\n"
     ]
    }
   ],
   "source": [
    "for i in range(10):\n",
    "    print(i + 1)"
   ]
  },
  {
   "cell_type": "code",
   "execution_count": 84,
   "id": "45d3a6e9-4993-482b-9920-9fd9127f9b3f",
   "metadata": {},
   "outputs": [
    {
     "name": "stdout",
     "output_type": "stream",
     "text": [
      "10\n",
      "9\n",
      "8\n",
      "7\n",
      "6\n",
      "5\n",
      "4\n",
      "3\n",
      "2\n",
      "1\n",
      "0\n"
     ]
    }
   ],
   "source": [
    "# 10 downto 0\n",
    "for i in range(10, -1, -1):\n",
    "    print(i)"
   ]
  },
  {
   "cell_type": "code",
   "execution_count": 85,
   "id": "2f3bb6ce-efed-422a-ba2e-7d02942dfe7d",
   "metadata": {},
   "outputs": [
    {
     "name": "stdout",
     "output_type": "stream",
     "text": [
      "10\n",
      "9\n",
      "8\n",
      "7\n",
      "6\n",
      "5\n",
      "4\n",
      "3\n",
      "2\n",
      "1\n",
      "Boom\n"
     ]
    }
   ],
   "source": [
    "for i in range(10, 0, -1):\n",
    "    print(i)\n",
    "print('Boom')"
   ]
  },
  {
   "cell_type": "markdown",
   "id": "b36a68ac-23bf-4b1c-8a16-2776978b526a",
   "metadata": {},
   "source": [
    "### Builtin functions on Iterables"
   ]
  },
  {
   "cell_type": "code",
   "execution_count": 86,
   "id": "85ebe6d8-9bc7-4975-a5dd-87632bf18d7d",
   "metadata": {},
   "outputs": [
    {
     "data": {
      "text/plain": [
       "['S',\n",
       " 'a',\n",
       " 'i',\n",
       " 'n',\n",
       " 't',\n",
       " '-',\n",
       " 'O',\n",
       " 'r',\n",
       " 'e',\n",
       " 'n',\n",
       " 's',\n",
       " '-',\n",
       " 'd',\n",
       " 'e',\n",
       " '-',\n",
       " 'G',\n",
       " 'a',\n",
       " 'm',\n",
       " 'e',\n",
       " 'v',\n",
       " 'i',\n",
       " 'l',\n",
       " 'l',\n",
       " 'e']"
      ]
     },
     "execution_count": 86,
     "metadata": {},
     "output_type": "execute_result"
    }
   ],
   "source": [
    "list(city1bis)"
   ]
  },
  {
   "cell_type": "code",
   "execution_count": 87,
   "id": "3a3b4ebe-a8c5-40bb-8b50-4c00e302eac8",
   "metadata": {},
   "outputs": [
    {
     "data": {
      "text/plain": [
       "[0, 1, 2, 3, 4, 5, 6, 7, 8, 9]"
      ]
     },
     "execution_count": 87,
     "metadata": {},
     "output_type": "execute_result"
    }
   ],
   "source": [
    "list(range(10))"
   ]
  },
  {
   "cell_type": "code",
   "execution_count": 88,
   "id": "d48bf361-d8d5-4e11-97fe-f3483beebe95",
   "metadata": {},
   "outputs": [
    {
     "data": {
      "text/plain": [
       "['Saint-Orens-de-Gameville', 'Revel', 'Roquettes', 'Pau']"
      ]
     },
     "execution_count": 88,
     "metadata": {},
     "output_type": "execute_result"
    }
   ],
   "source": [
    "list(cities)"
   ]
  },
  {
   "cell_type": "code",
   "execution_count": 89,
   "id": "d46b3128-1c3a-49a0-98ae-7284949ab501",
   "metadata": {},
   "outputs": [
    {
     "data": {
      "text/plain": [
       "[1, 2, 3]"
      ]
     },
     "execution_count": 89,
     "metadata": {},
     "output_type": "execute_result"
    }
   ],
   "source": [
    "# builtin function list masked by a variable with same name\n",
    "list = [1,2,3]\n",
    "list"
   ]
  },
  {
   "cell_type": "code",
   "execution_count": 90,
   "id": "f6dbf78d-7884-416b-b87d-8c4acf54a74b",
   "metadata": {},
   "outputs": [],
   "source": [
    "# delete variable\n",
    "del list"
   ]
  },
  {
   "cell_type": "code",
   "execution_count": 91,
   "id": "69e03e1e-f05f-4c3c-9242-8835e92dbaeb",
   "metadata": {},
   "outputs": [
    {
     "data": {
      "text/plain": [
       "[0, 1, 2, 3, 4]"
      ]
     },
     "execution_count": 91,
     "metadata": {},
     "output_type": "execute_result"
    }
   ],
   "source": [
    "# back to the true 'list'\n",
    "list(range(5))"
   ]
  },
  {
   "cell_type": "code",
   "execution_count": 92,
   "id": "8648bebc-ed1d-457c-849a-ec26cc46c94c",
   "metadata": {},
   "outputs": [
    {
     "name": "stdout",
     "output_type": "stream",
     "text": [
      "0 Saint-Orens-de-Gameville\n",
      "1 Revel\n",
      "2 Roquettes\n",
      "3 Pau\n"
     ]
    }
   ],
   "source": [
    "for i, city in enumerate(cities):\n",
    "    print(i, city)"
   ]
  },
  {
   "cell_type": "code",
   "execution_count": 93,
   "id": "e578b9aa-faa6-4d13-ad51-d5b07e3d2e2b",
   "metadata": {},
   "outputs": [
    {
     "name": "stdout",
     "output_type": "stream",
     "text": [
      "1 Saint-Orens-de-Gameville\n",
      "2 Revel\n",
      "3 Roquettes\n",
      "4 Pau\n"
     ]
    }
   ],
   "source": [
    "for i, city in enumerate(cities, start=1):\n",
    "    print(i, city)"
   ]
  },
  {
   "cell_type": "code",
   "execution_count": 94,
   "id": "32bc003a-aab8-49dc-adf1-82eb313c0340",
   "metadata": {},
   "outputs": [
    {
     "name": "stdout",
     "output_type": "stream",
     "text": [
      "0 S\n",
      "1 a\n",
      "2 i\n",
      "3 n\n",
      "4 t\n",
      "5 -\n",
      "6 O\n",
      "7 r\n",
      "8 e\n",
      "9 n\n",
      "10 s\n",
      "11 -\n",
      "12 d\n",
      "13 e\n",
      "14 -\n",
      "15 G\n",
      "16 a\n",
      "17 m\n",
      "18 e\n",
      "19 v\n",
      "20 i\n",
      "21 l\n",
      "22 l\n",
      "23 e\n"
     ]
    }
   ],
   "source": [
    "for i, letter in enumerate(city1bis):\n",
    "    print(i, letter)"
   ]
  },
  {
   "cell_type": "code",
   "execution_count": 95,
   "id": "a9795742-3072-43dc-b595-8227fb90ac54",
   "metadata": {},
   "outputs": [
    {
     "data": {
      "text/plain": [
       "[(0, 's'), (1, 'e'), (2, 'a'), (3, 's'), (4, 'o'), (5, 'n'), (6, 's')]"
      ]
     },
     "execution_count": 95,
     "metadata": {},
     "output_type": "execute_result"
    }
   ],
   "source": [
    "list(enumerate('seasons'))"
   ]
  },
  {
   "cell_type": "code",
   "execution_count": 96,
   "id": "ecf215cc-fdb2-45ea-ab41-b8966474e68a",
   "metadata": {},
   "outputs": [
    {
     "data": {
      "text/plain": [
       "[(0, 'summer'), (1, 'fall'), (2, 'winter'), (3, 'spring')]"
      ]
     },
     "execution_count": 96,
     "metadata": {},
     "output_type": "execute_result"
    }
   ],
   "source": [
    "seasons = ['summer', 'fall', 'winter', 'spring']\n",
    "list(enumerate(seasons))"
   ]
  },
  {
   "cell_type": "code",
   "execution_count": 97,
   "id": "d79ce1c9-132a-4400-b266-ff0b0ff3ea9d",
   "metadata": {},
   "outputs": [
    {
     "data": {
      "text/plain": [
       "<enumerate at 0x1dc894535b0>"
      ]
     },
     "execution_count": 97,
     "metadata": {},
     "output_type": "execute_result"
    }
   ],
   "source": [
    "# enumerate is lazy\n",
    "e = enumerate(seasons)\n",
    "e"
   ]
  },
  {
   "cell_type": "code",
   "execution_count": 98,
   "id": "43f13bb9-6f0a-478f-a0f8-2ce83b654dd9",
   "metadata": {},
   "outputs": [
    {
     "data": {
      "text/plain": [
       "[(0, 'summer'), (1, 'fall'), (2, 'winter'), (3, 'spring')]"
      ]
     },
     "execution_count": 98,
     "metadata": {},
     "output_type": "execute_result"
    }
   ],
   "source": [
    "list(e)"
   ]
  },
  {
   "cell_type": "code",
   "execution_count": 99,
   "id": "7bd6aba5-330e-41fc-88c0-275ae86b8999",
   "metadata": {},
   "outputs": [
    {
     "data": {
      "text/plain": [
       "6"
      ]
     },
     "execution_count": 99,
     "metadata": {},
     "output_type": "execute_result"
    }
   ],
   "source": [
    "sum([1,2,3])"
   ]
  },
  {
   "cell_type": "code",
   "execution_count": 100,
   "id": "64540e42-673d-4d80-a3dd-9f7577936bff",
   "metadata": {},
   "outputs": [
    {
     "data": {
      "text/plain": [
       "55"
      ]
     },
     "execution_count": 100,
     "metadata": {},
     "output_type": "execute_result"
    }
   ],
   "source": [
    "# sum numbers from 1 to 10\n",
    "sum(range(1, 11))"
   ]
  },
  {
   "cell_type": "code",
   "execution_count": 101,
   "id": "5cf11d2d-4dcf-4e8e-8f29-1b2088133eae",
   "metadata": {},
   "outputs": [
    {
     "data": {
      "text/plain": [
       "10"
      ]
     },
     "execution_count": 101,
     "metadata": {},
     "output_type": "execute_result"
    }
   ],
   "source": [
    "max(range(1, 11))"
   ]
  },
  {
   "cell_type": "code",
   "execution_count": 102,
   "id": "bb8e16ad-801a-4ce6-bf82-e91af9c0f952",
   "metadata": {},
   "outputs": [
    {
     "data": {
      "text/plain": [
       "1"
      ]
     },
     "execution_count": 102,
     "metadata": {},
     "output_type": "execute_result"
    }
   ],
   "source": [
    "min(range(1, 11))"
   ]
  },
  {
   "cell_type": "code",
   "execution_count": 103,
   "id": "74d79f22-14a1-4041-813e-3a34b684700e",
   "metadata": {},
   "outputs": [
    {
     "data": {
      "text/plain": [
       "'Pau'"
      ]
     },
     "execution_count": 103,
     "metadata": {},
     "output_type": "execute_result"
    }
   ],
   "source": [
    "min(cities)"
   ]
  },
  {
   "cell_type": "code",
   "execution_count": 104,
   "id": "f3fd52fe-5e8a-4861-84a8-6b0f97394191",
   "metadata": {},
   "outputs": [
    {
     "data": {
      "text/plain": [
       "['Saint-Orens-de-Gameville',\n",
       " 'Revel',\n",
       " 'Roquettes',\n",
       " 'Pau',\n",
       " 'Albertville',\n",
       " 'Zalana',\n",
       " 'Rodez',\n",
       " 'Muret']"
      ]
     },
     "execution_count": 104,
     "metadata": {},
     "output_type": "execute_result"
    }
   ],
   "source": [
    "cities.append('Albertville')\n",
    "cities.append('Zalana')\n",
    "cities.extend(['Rodez', 'Muret'])\n",
    "cities"
   ]
  },
  {
   "cell_type": "code",
   "execution_count": 105,
   "id": "ce82f57b-93a5-4fb9-a811-b7daca8beebe",
   "metadata": {},
   "outputs": [
    {
     "data": {
      "text/plain": [
       "('Albertville', 'Zalana')"
      ]
     },
     "execution_count": 105,
     "metadata": {},
     "output_type": "execute_result"
    }
   ],
   "source": [
    "min(cities), max(cities)"
   ]
  },
  {
   "cell_type": "code",
   "execution_count": 106,
   "id": "77df4a8e-7f10-4732-b976-1dcbba4900b4",
   "metadata": {},
   "outputs": [
    {
     "name": "stdout",
     "output_type": "stream",
     "text": [
      "False\n",
      "True\n"
     ]
    }
   ],
   "source": [
    "print(12 < 5) # integer order\n",
    "print('12' < '5') # str order"
   ]
  },
  {
   "cell_type": "code",
   "execution_count": 107,
   "id": "863630c4-3b43-4405-b4ad-90c72155db2b",
   "metadata": {},
   "outputs": [
    {
     "data": {
      "text/plain": [
       "[1, 2, 3, 4, 5, 6, 7, 8, 9, 10]"
      ]
     },
     "execution_count": 107,
     "metadata": {},
     "output_type": "execute_result"
    }
   ],
   "source": [
    "sorted(range(10, 0, -1))"
   ]
  },
  {
   "cell_type": "code",
   "execution_count": 108,
   "id": "afcc295d-2033-49bf-a156-4fdece6d5d36",
   "metadata": {},
   "outputs": [
    {
     "data": {
      "text/plain": [
       "['Albertville',\n",
       " 'Muret',\n",
       " 'Pau',\n",
       " 'Revel',\n",
       " 'Rodez',\n",
       " 'Roquettes',\n",
       " 'Saint-Orens-de-Gameville',\n",
       " 'Zalana']"
      ]
     },
     "execution_count": 108,
     "metadata": {},
     "output_type": "execute_result"
    }
   ],
   "source": [
    "sorted(cities)"
   ]
  },
  {
   "cell_type": "code",
   "execution_count": 109,
   "id": "2e7e3e44-e126-44a5-a44e-cfaf8d47a6e8",
   "metadata": {},
   "outputs": [],
   "source": [
    "words = [\n",
    "    'été', 'étage', 'étuve',\n",
    "    'abricot', 'Appareil',\n",
    "    'cœur', 'cobra', 'corde',\n",
    "    'Zèbre', 'zoo',\n",
    "    'ça', 'carte', 'caisse'\n",
    "]"
   ]
  },
  {
   "cell_type": "code",
   "execution_count": 110,
   "id": "76d4a9c8-d738-4eb5-bb89-f2dc3e5688ef",
   "metadata": {},
   "outputs": [
    {
     "data": {
      "text/plain": [
       "['Appareil',\n",
       " 'Zèbre',\n",
       " 'abricot',\n",
       " 'caisse',\n",
       " 'carte',\n",
       " 'cobra',\n",
       " 'corde',\n",
       " 'cœur',\n",
       " 'zoo',\n",
       " 'ça',\n",
       " 'étage',\n",
       " 'étuve',\n",
       " 'été']"
      ]
     },
     "execution_count": 110,
     "metadata": {},
     "output_type": "execute_result"
    }
   ],
   "source": [
    "sorted(words)"
   ]
  },
  {
   "cell_type": "markdown",
   "id": "822250b3-0486-4032-80e6-ba5a7275cd4f",
   "metadata": {},
   "source": [
    "### Tuples\n",
    "- non mutable\n",
    "- iterable"
   ]
  },
  {
   "cell_type": "code",
   "execution_count": 111,
   "id": "40eeda31-cc02-472f-8545-cfadfb3b8a13",
   "metadata": {},
   "outputs": [
    {
     "data": {
      "text/plain": [
       "('Toulouse', 511684, '31000')"
      ]
     },
     "execution_count": 111,
     "metadata": {},
     "output_type": "execute_result"
    }
   ],
   "source": [
    "city_t1 = ('Toulouse', 511_684, '31000')\n",
    "city_t1"
   ]
  },
  {
   "cell_type": "code",
   "execution_count": 112,
   "id": "78097a1b-bea1-449b-93f5-711306d1f7cc",
   "metadata": {},
   "outputs": [
    {
     "data": {
      "text/plain": [
       "('Saint-Orens-de-Gammeville', 13766, '31650')"
      ]
     },
     "execution_count": 112,
     "metadata": {},
     "output_type": "execute_result"
    }
   ],
   "source": [
    "city_t2 = 'Saint-Orens-de-Gammeville', 13_766, '31650'\n",
    "city_t2"
   ]
  },
  {
   "cell_type": "code",
   "execution_count": 113,
   "id": "05ba8d4e-e18e-42df-8c0f-972ea4c0b84d",
   "metadata": {},
   "outputs": [
    {
     "data": {
      "text/plain": [
       "3"
      ]
     },
     "execution_count": 113,
     "metadata": {},
     "output_type": "execute_result"
    }
   ],
   "source": [
    "len(city_t1)"
   ]
  },
  {
   "cell_type": "code",
   "execution_count": 114,
   "id": "1cd757fb-8c5e-49e7-81e3-a9a7a6e75bfa",
   "metadata": {},
   "outputs": [
    {
     "name": "stdout",
     "output_type": "stream",
     "text": [
      "Toulouse\n",
      "511684\n",
      "31000\n"
     ]
    }
   ],
   "source": [
    "for info in city_t1:\n",
    "    print(info)"
   ]
  },
  {
   "cell_type": "code",
   "execution_count": 115,
   "id": "693d2299-29a7-4330-aa10-ef1184e80d5b",
   "metadata": {},
   "outputs": [
    {
     "data": {
      "text/plain": [
       "'Toulouse'"
      ]
     },
     "execution_count": 115,
     "metadata": {},
     "output_type": "execute_result"
    }
   ],
   "source": [
    "city_t1[0]"
   ]
  },
  {
   "cell_type": "code",
   "execution_count": 116,
   "id": "1adafe84-7b0b-4a40-b1cc-2c571f251324",
   "metadata": {},
   "outputs": [
    {
     "data": {
      "text/plain": [
       "('Toulouse', 511684)"
      ]
     },
     "execution_count": 116,
     "metadata": {},
     "output_type": "execute_result"
    }
   ],
   "source": [
    "city_t1[:2]"
   ]
  },
  {
   "cell_type": "code",
   "execution_count": 117,
   "id": "e87fc780-2b95-4825-9009-18a35138248a",
   "metadata": {},
   "outputs": [
    {
     "name": "stdout",
     "output_type": "stream",
     "text": [
      "Name: Toulouse\n",
      "Population: 511684\n",
      "Zipcode: 31000\n"
     ]
    }
   ],
   "source": [
    "# unpack tuple\n",
    "name, population, zipcode = city_t1\n",
    "print('Name:', name)\n",
    "print('Population:', population)\n",
    "print('Zipcode:', zipcode)"
   ]
  },
  {
   "cell_type": "code",
   "execution_count": 118,
   "id": "ee1d7520-081e-4604-8907-6034169bc489",
   "metadata": {},
   "outputs": [
    {
     "name": "stdout",
     "output_type": "stream",
     "text": [
      "Name: Toulouse\n",
      "Population: 511684\n",
      "Zipcode: 31000\n"
     ]
    }
   ],
   "source": [
    "# without unpack, less readable code\n",
    "print('Name:', city_t1[0])\n",
    "print('Population:', city_t1[1])\n",
    "print('Zipcode:', city_t1[2])"
   ]
  },
  {
   "cell_type": "code",
   "execution_count": 119,
   "id": "940c2953-cf94-4910-a03f-b47c4d49a937",
   "metadata": {},
   "outputs": [
    {
     "name": "stdout",
     "output_type": "stream",
     "text": [
      "Name: Toulouse\n",
      "Population: 511684\n",
      "Zipcode: 31000\n",
      "\n",
      "Name: Saint-Orens-de-Gammeville\n",
      "Population: 13766\n",
      "Zipcode: 31650\n",
      "\n"
     ]
    }
   ],
   "source": [
    "for city_t in city_t1, city_t2:\n",
    "    name, population, zipcode = city_t\n",
    "    print('Name:', name)\n",
    "    print('Population:', population)\n",
    "    print('Zipcode:', zipcode)\n",
    "    print()"
   ]
  },
  {
   "cell_type": "code",
   "execution_count": 120,
   "id": "b6163420-5922-4192-912e-1e3715f04227",
   "metadata": {},
   "outputs": [
    {
     "name": "stdout",
     "output_type": "stream",
     "text": [
      "Name: Toulouse\n",
      "Population: 511684\n",
      "Zipcode: 31000\n",
      "\n",
      "Name: Saint-Orens-de-Gammeville\n",
      "Population: 13766\n",
      "Zipcode: 31650\n",
      "\n"
     ]
    }
   ],
   "source": [
    "for name, population, zipcode in city_t1, city_t2:\n",
    "    print('Name:', name)\n",
    "    print('Population:', population)\n",
    "    print('Zipcode:', zipcode)\n",
    "    print()"
   ]
  },
  {
   "cell_type": "code",
   "execution_count": 121,
   "id": "a4791d05-a2e6-4f56-951b-787f587797cb",
   "metadata": {},
   "outputs": [
    {
     "name": "stdout",
     "output_type": "stream",
     "text": [
      "Name: Toulouse\n",
      "Population: 511684\n",
      "\n",
      "Name: Saint-Orens-de-Gammeville\n",
      "Population: 13766\n",
      "\n"
     ]
    }
   ],
   "source": [
    "for name, population, _ in city_t1, city_t2:\n",
    "    print('Name:', name)\n",
    "    print('Population:', population)\n",
    "    print()"
   ]
  },
  {
   "cell_type": "code",
   "execution_count": 122,
   "id": "24caf455-b9e0-4458-a0fd-1f221d74ced0",
   "metadata": {},
   "outputs": [
    {
     "name": "stdout",
     "output_type": "stream",
     "text": [
      "3 5\n"
     ]
    }
   ],
   "source": [
    "_, _, a, _, b, _ = (1, 2, 3, 4, 5, 6)\n",
    "print(a, b)"
   ]
  },
  {
   "cell_type": "markdown",
   "id": "e6c999b5-2c42-4cad-adcc-c547b054c195",
   "metadata": {},
   "source": [
    "### Exercise\n",
    "Compute the total number of characters to write all cities from list `cities`:\n",
    "```\n",
    "cities = [\n",
    "    'Saint-Orens-de-Gameville',\n",
    "     'Revel',\n",
    "     'Roquettes',\n",
    "     'Pau',\n",
    "     'Albertville',\n",
    "     'Zalana'\n",
    "]\n",
    "```"
   ]
  },
  {
   "cell_type": "code",
   "execution_count": 123,
   "id": "728428d2-e8fd-4db3-bc06-97c0f1bbb444",
   "metadata": {},
   "outputs": [
    {
     "data": {
      "text/plain": [
       "['Saint-Orens-de-Gameville',\n",
       " 'Revel',\n",
       " 'Roquettes',\n",
       " 'Pau',\n",
       " 'Albertville',\n",
       " 'Zalana',\n",
       " 'Rodez',\n",
       " 'Muret']"
      ]
     },
     "execution_count": 123,
     "metadata": {},
     "output_type": "execute_result"
    }
   ],
   "source": [
    "cities"
   ]
  },
  {
   "cell_type": "code",
   "execution_count": 124,
   "id": "861e8e77-5330-49d9-a7ab-fa0d25e1c71f",
   "metadata": {},
   "outputs": [
    {
     "data": {
      "text/plain": [
       "68"
      ]
     },
     "execution_count": 124,
     "metadata": {},
     "output_type": "execute_result"
    }
   ],
   "source": [
    "count = 0\n",
    "for city in cities:\n",
    "    for _ in city:\n",
    "        count += 1\n",
    "count"
   ]
  },
  {
   "cell_type": "code",
   "execution_count": 125,
   "id": "8913bb88-af58-4735-b70a-b6896e4c44f8",
   "metadata": {},
   "outputs": [
    {
     "data": {
      "text/plain": [
       "68"
      ]
     },
     "execution_count": 125,
     "metadata": {},
     "output_type": "execute_result"
    }
   ],
   "source": [
    "count = 0\n",
    "for city in cities:\n",
    "        count += len(city)\n",
    "count"
   ]
  },
  {
   "cell_type": "markdown",
   "id": "1f22f905-78af-4301-a774-6c29ea475a8c",
   "metadata": {},
   "source": [
    "### Expression for"
   ]
  },
  {
   "cell_type": "code",
   "execution_count": 126,
   "id": "eca3d96a-f7d1-47a7-b0a7-1e4fe1e2615a",
   "metadata": {},
   "outputs": [
    {
     "data": {
      "text/plain": [
       "68"
      ]
     },
     "execution_count": 126,
     "metadata": {},
     "output_type": "execute_result"
    }
   ],
   "source": [
    "sum(len(city) for city in cities)"
   ]
  },
  {
   "cell_type": "code",
   "execution_count": 127,
   "id": "1a370d4d-958a-429a-bb8f-438d5819e614",
   "metadata": {},
   "outputs": [
    {
     "data": {
      "text/plain": [
       "1068"
      ]
     },
     "execution_count": 127,
     "metadata": {},
     "output_type": "execute_result"
    }
   ],
   "source": [
    "sum((len(city) for city in cities), start=1000)"
   ]
  },
  {
   "cell_type": "markdown",
   "id": "7eb93bf1-afa5-49a0-9e3f-97ceb268f309",
   "metadata": {},
   "source": [
    "#### expression for as a generator"
   ]
  },
  {
   "cell_type": "code",
   "execution_count": 128,
   "id": "5e869aa1-3020-457b-8679-5137ddf4cd85",
   "metadata": {},
   "outputs": [
    {
     "data": {
      "text/plain": [
       "<generator object <genexpr> at 0x000001DC89353440>"
      ]
     },
     "execution_count": 128,
     "metadata": {},
     "output_type": "execute_result"
    }
   ],
   "source": [
    "g = (len(city) for city in cities)\n",
    "g"
   ]
  },
  {
   "cell_type": "code",
   "execution_count": 129,
   "id": "d28e3e8c-f1b0-4ce5-8e4c-1a7893d8e89e",
   "metadata": {},
   "outputs": [
    {
     "data": {
      "text/plain": [
       "24"
      ]
     },
     "execution_count": 129,
     "metadata": {},
     "output_type": "execute_result"
    }
   ],
   "source": [
    "next(g)"
   ]
  },
  {
   "cell_type": "markdown",
   "id": "baac530c-a925-42f0-ab5e-5c7c66554bd0",
   "metadata": {},
   "source": [
    "### list comprehension"
   ]
  },
  {
   "cell_type": "code",
   "execution_count": 130,
   "id": "aa53c05e-4c17-42d1-ae5e-646342400b1e",
   "metadata": {},
   "outputs": [
    {
     "data": {
      "text/plain": [
       "[24, 5, 9, 3, 11, 6, 5, 5]"
      ]
     },
     "execution_count": 130,
     "metadata": {},
     "output_type": "execute_result"
    }
   ],
   "source": [
    "[len(city) for city in cities]"
   ]
  },
  {
   "cell_type": "markdown",
   "id": "a6e07356-7cd8-49e4-851e-8c4c293bf168",
   "metadata": {},
   "source": [
    "### Conditional code"
   ]
  },
  {
   "cell_type": "code",
   "execution_count": 131,
   "id": "e4eb228b-94a2-41cd-88cf-be9d560055b7",
   "metadata": {},
   "outputs": [
    {
     "name": "stdout",
     "output_type": "stream",
     "text": [
      "Saint-Orens-de-Gameville\n",
      "Roquettes\n",
      "Albertville\n"
     ]
    }
   ],
   "source": [
    "# display cities with more than 6 letters\n",
    "for city in cities:\n",
    "    if len(city) > 6:\n",
    "        print(city)"
   ]
  },
  {
   "cell_type": "code",
   "execution_count": 132,
   "id": "48c64270-a72d-479e-8421-623c4e764c7a",
   "metadata": {},
   "outputs": [
    {
     "name": "stdout",
     "output_type": "stream",
     "text": [
      "ok: Saint-Orens-de-Gameville\n",
      "ko: Revel\n",
      "ok: Roquettes\n",
      "ko: Pau\n",
      "ok: Albertville\n",
      "ko: Zalana\n",
      "ko: Rodez\n",
      "ko: Muret\n"
     ]
    }
   ],
   "source": [
    "for city in cities:\n",
    "    if len(city) > 6:\n",
    "        print('ok:', city)\n",
    "    else:\n",
    "        print('ko:', city)"
   ]
  },
  {
   "cell_type": "code",
   "execution_count": 133,
   "id": "f57bad61-a544-4de1-9aed-1fcbbf96023e",
   "metadata": {},
   "outputs": [
    {
     "name": "stdout",
     "output_type": "stream",
     "text": [
      "big: Saint-Orens-de-Gameville\n",
      "small: Revel\n",
      "medium: Roquettes\n",
      "small: Pau\n",
      "medium: Albertville\n",
      "small: Zalana\n",
      "small: Rodez\n",
      "small: Muret\n"
     ]
    }
   ],
   "source": [
    "min_threshold = 6\n",
    "max_threshold = 20\n",
    "for city in cities:\n",
    "    if len(city) <= min_threshold:\n",
    "        print('small:', city)\n",
    "    elif len(city) <= max_threshold:\n",
    "        print('medium:', city)\n",
    "    else:\n",
    "        print('big:', city)"
   ]
  },
  {
   "cell_type": "code",
   "execution_count": 134,
   "id": "aa019dfb-c398-408f-a975-fbd2a0f2b436",
   "metadata": {},
   "outputs": [
    {
     "name": "stdout",
     "output_type": "stream",
     "text": [
      "Saint-Orens-de-Gameville\n",
      "False\n",
      "False\n",
      "True\n",
      "True\n",
      "False\n",
      "True\n",
      "\n",
      "Revel\n",
      "True\n",
      "True\n",
      "False\n",
      "False\n",
      "False\n",
      "True\n",
      "\n",
      "Roquettes\n",
      "False\n",
      "False\n",
      "True\n",
      "True\n",
      "False\n",
      "True\n",
      "\n",
      "Pau\n",
      "True\n",
      "True\n",
      "False\n",
      "False\n",
      "False\n",
      "True\n",
      "\n",
      "Albertville\n",
      "False\n",
      "False\n",
      "True\n",
      "True\n",
      "False\n",
      "True\n",
      "\n",
      "Zalana\n",
      "False\n",
      "True\n",
      "False\n",
      "True\n",
      "True\n",
      "False\n",
      "\n",
      "Rodez\n",
      "True\n",
      "True\n",
      "False\n",
      "False\n",
      "False\n",
      "True\n",
      "\n",
      "Muret\n",
      "True\n",
      "True\n",
      "False\n",
      "False\n",
      "False\n",
      "True\n",
      "\n"
     ]
    }
   ],
   "source": [
    "for city in cities:\n",
    "    print(city)\n",
    "    print(len(city) < 6)\n",
    "    print(len(city) <= 6)\n",
    "    print(len(city) > 6)\n",
    "    print(len(city) >= 6)\n",
    "    print(len(city) == 6)\n",
    "    print(len(city) != 6)\n",
    "    print()"
   ]
  },
  {
   "cell_type": "code",
   "execution_count": 135,
   "id": "8053637d-9744-48f2-b813-2e00a9d8a41d",
   "metadata": {},
   "outputs": [
    {
     "data": {
      "text/plain": [
       "False"
      ]
     },
     "execution_count": 135,
     "metadata": {},
     "output_type": "execute_result"
    }
   ],
   "source": [
    "min_threshold <= len(city) and len(city) < max_threshold"
   ]
  },
  {
   "cell_type": "code",
   "execution_count": 136,
   "id": "9fde867d-e9b5-43a7-9c8e-e5ee88a871ba",
   "metadata": {},
   "outputs": [
    {
     "data": {
      "text/plain": [
       "False"
      ]
     },
     "execution_count": 136,
     "metadata": {},
     "output_type": "execute_result"
    }
   ],
   "source": [
    "# python shortcut\n",
    "min_threshold <= len(city) < max_threshold"
   ]
  },
  {
   "cell_type": "code",
   "execution_count": 137,
   "id": "e49f9103-e953-4f3a-8a3d-49b5cd3c1731",
   "metadata": {},
   "outputs": [
    {
     "data": {
      "text/plain": [
       "True"
      ]
     },
     "execution_count": 137,
     "metadata": {},
     "output_type": "execute_result"
    }
   ],
   "source": [
    "min_threshold > len(city) or len(city) >= max_threshold"
   ]
  },
  {
   "cell_type": "code",
   "execution_count": 138,
   "id": "4604bf87-f5a2-4787-85a7-b4e90fe105b3",
   "metadata": {},
   "outputs": [
    {
     "data": {
      "text/plain": [
       "True"
      ]
     },
     "execution_count": 138,
     "metadata": {},
     "output_type": "execute_result"
    }
   ],
   "source": [
    "not city.startswith('A')"
   ]
  },
  {
   "cell_type": "code",
   "execution_count": 139,
   "id": "aa5a874b-943a-4d83-8ca6-7740b5a6b646",
   "metadata": {},
   "outputs": [],
   "source": [
    "# cities starting with R and less than 6 letters\n",
    "# - sol 1: display\n",
    "# - sol 2: result in a new list"
   ]
  },
  {
   "cell_type": "code",
   "execution_count": 140,
   "id": "cb5c1af8-3a36-45e7-9d89-476cdbe3e90e",
   "metadata": {},
   "outputs": [
    {
     "name": "stdout",
     "output_type": "stream",
     "text": [
      "Revel\n",
      "Rodez\n"
     ]
    }
   ],
   "source": [
    "for city in cities:\n",
    "    if city.startswith('R') and len(city) < 6:\n",
    "        print(city)"
   ]
  },
  {
   "cell_type": "code",
   "execution_count": 141,
   "id": "474bca17-cb2d-40a3-b208-5c0777c42f35",
   "metadata": {},
   "outputs": [
    {
     "data": {
      "text/plain": [
       "['Revel', 'Rodez']"
      ]
     },
     "execution_count": 141,
     "metadata": {},
     "output_type": "execute_result"
    }
   ],
   "source": [
    "selection = []\n",
    "for city in cities:\n",
    "    if city.startswith('R') and len(city) < 6:\n",
    "        selection.append(city)\n",
    "selection"
   ]
  },
  {
   "cell_type": "code",
   "execution_count": 144,
   "id": "28926e31-559b-4032-847a-ca4ed3d5db93",
   "metadata": {},
   "outputs": [
    {
     "data": {
      "text/plain": [
       "['Saint-Orens-de-Gameville',\n",
       " 'Revel',\n",
       " 'Roquettes',\n",
       " 'Pau',\n",
       " 'Albertville',\n",
       " 'Zalana',\n",
       " 'Rodez',\n",
       " 'Muret',\n",
       " 'P',\n",
       " 'a',\n",
       " 'r',\n",
       " 'i',\n",
       " 's']"
      ]
     },
     "execution_count": 144,
     "metadata": {},
     "output_type": "execute_result"
    }
   ],
   "source": [
    "cities.extend('Paris')\n",
    "print(cities)"
   ]
  },
  {
   "cell_type": "code",
   "execution_count": 148,
   "id": "c7a9062a-0f4f-44c0-bd77-23dd31d0ec64",
   "metadata": {},
   "outputs": [
    {
     "data": {
      "text/plain": [
       "['P', 'a', 'r', 'i', 's']"
      ]
     },
     "execution_count": 148,
     "metadata": {},
     "output_type": "execute_result"
    }
   ],
   "source": [
    "n = len('Paris')\n",
    "cities[-n:]"
   ]
  },
  {
   "cell_type": "code",
   "execution_count": 149,
   "id": "67c5a3ba-a151-4b19-8235-d634e517f8a5",
   "metadata": {},
   "outputs": [
    {
     "data": {
      "text/plain": [
       "['Saint-Orens-de-Gameville',\n",
       " 'Revel',\n",
       " 'Roquettes',\n",
       " 'Pau',\n",
       " 'Albertville',\n",
       " 'Zalana',\n",
       " 'Rodez',\n",
       " 'Muret']"
      ]
     },
     "execution_count": 149,
     "metadata": {},
     "output_type": "execute_result"
    }
   ],
   "source": [
    "del cities[-n:]\n",
    "cities"
   ]
  },
  {
   "cell_type": "code",
   "execution_count": 151,
   "id": "9283854e-17ee-40f7-8db2-d685d6b2b992",
   "metadata": {},
   "outputs": [
    {
     "data": {
      "text/plain": [
       "['Revel', 'Rodez']"
      ]
     },
     "execution_count": 151,
     "metadata": {},
     "output_type": "execute_result"
    }
   ],
   "source": [
    "[city for city in cities if city.startswith('R') and len(city) < 6]"
   ]
  },
  {
   "cell_type": "code",
   "execution_count": 154,
   "id": "b4496509-dcac-447a-b4a6-0098bf7bcc91",
   "metadata": {},
   "outputs": [
    {
     "data": {
      "text/plain": [
       "['REVEL', 'RODEZ']"
      ]
     },
     "execution_count": 154,
     "metadata": {},
     "output_type": "execute_result"
    }
   ],
   "source": [
    "[city.upper() for city in cities if city.startswith('R') and len(city) < 6]"
   ]
  },
  {
   "cell_type": "code",
   "execution_count": 152,
   "id": "05ad2465-ce77-4637-adc0-02a3e18c0df7",
   "metadata": {},
   "outputs": [
    {
     "data": {
      "text/plain": [
       "[5, 5]"
      ]
     },
     "execution_count": 152,
     "metadata": {},
     "output_type": "execute_result"
    }
   ],
   "source": [
    "[len(city) for city in cities if city.startswith('R') and len(city) < 6]"
   ]
  },
  {
   "cell_type": "code",
   "execution_count": 153,
   "id": "c0fb503c-c70e-47e2-ba87-5996fbf6dd98",
   "metadata": {},
   "outputs": [
    {
     "data": {
      "text/plain": [
       "[('Revel', 5), ('Rodez', 5)]"
      ]
     },
     "execution_count": 153,
     "metadata": {},
     "output_type": "execute_result"
    }
   ],
   "source": [
    "[(city, len(city)) for city in cities if city.startswith('R') and len(city) < 6]"
   ]
  },
  {
   "cell_type": "markdown",
   "id": "982a0d10-9673-447b-8050-6132d1ec5755",
   "metadata": {},
   "source": [
    "### Dictionaries\n",
    "- type `dict`\n",
    "- build with { key1: value1, key2: value2 }\n",
    "- unique keys\n",
    "- has length\n",
    "- 3 iterations (keys, values, items)"
   ]
  },
  {
   "cell_type": "code",
   "execution_count": 155,
   "id": "3d7d54f3-cd91-4723-ad88-28201db912f9",
   "metadata": {},
   "outputs": [
    {
     "data": {
      "text/plain": [
       "{'Revel': 5, 'Rodez': 5}"
      ]
     },
     "execution_count": 155,
     "metadata": {},
     "output_type": "execute_result"
    }
   ],
   "source": [
    "{city: len(city) for city in cities if city.startswith('R') and len(city) < 6}"
   ]
  },
  {
   "cell_type": "code",
   "execution_count": 157,
   "id": "e53d55aa-07f8-46fd-958f-2ff54f6b2146",
   "metadata": {},
   "outputs": [
    {
     "data": {
      "text/plain": [
       "{'name': 'John', 'age': 30, 'car': None}"
      ]
     },
     "execution_count": 157,
     "metadata": {},
     "output_type": "execute_result"
    }
   ],
   "source": [
    "data_json = '{\"name\":\"John\", \"age\":30, \"car\":null}'\n",
    "data = json.loads(data_json)\n",
    "data"
   ]
  },
  {
   "cell_type": "code",
   "execution_count": 158,
   "id": "fd945aac-6267-4d65-980c-6f126d77ec3e",
   "metadata": {},
   "outputs": [
    {
     "data": {
      "text/plain": [
       "'{\"name\": \"John\", \"age\": 30, \"car\": null}'"
      ]
     },
     "execution_count": 158,
     "metadata": {},
     "output_type": "execute_result"
    }
   ],
   "source": [
    "json.dumps(data)"
   ]
  },
  {
   "cell_type": "code",
   "execution_count": 159,
   "id": "12848b4c-a61d-48fb-aca2-7d4fbc9ba60c",
   "metadata": {},
   "outputs": [
    {
     "data": {
      "text/plain": [
       "dict"
      ]
     },
     "execution_count": 159,
     "metadata": {},
     "output_type": "execute_result"
    }
   ],
   "source": [
    "type(data)"
   ]
  },
  {
   "cell_type": "code",
   "execution_count": 160,
   "id": "9dbc0d02-d6a2-4182-b0d5-7d5c301714e8",
   "metadata": {},
   "outputs": [
    {
     "data": {
      "text/plain": [
       "set"
      ]
     },
     "execution_count": 160,
     "metadata": {},
     "output_type": "execute_result"
    }
   ],
   "source": [
    "type({1, 2, 3})"
   ]
  },
  {
   "cell_type": "code",
   "execution_count": 161,
   "id": "2e12d1f7-43b7-46f0-b629-45cb093a385c",
   "metadata": {},
   "outputs": [
    {
     "data": {
      "text/plain": [
       "3"
      ]
     },
     "execution_count": 161,
     "metadata": {},
     "output_type": "execute_result"
    }
   ],
   "source": [
    "len(data)"
   ]
  },
  {
   "cell_type": "code",
   "execution_count": 162,
   "id": "6b0643bf-4bae-4f3b-a835-2c494f6568a2",
   "metadata": {},
   "outputs": [
    {
     "name": "stdout",
     "output_type": "stream",
     "text": [
      "name\n",
      "age\n",
      "car\n"
     ]
    }
   ],
   "source": [
    "for key in data.keys():\n",
    "    print(key)"
   ]
  },
  {
   "cell_type": "code",
   "execution_count": 163,
   "id": "6eb26342-076b-4cd2-b243-88275401983f",
   "metadata": {},
   "outputs": [
    {
     "name": "stdout",
     "output_type": "stream",
     "text": [
      "John\n",
      "30\n",
      "None\n"
     ]
    }
   ],
   "source": [
    "for value in data.values():\n",
    "    print(value)"
   ]
  },
  {
   "cell_type": "code",
   "execution_count": 167,
   "id": "cd5b4075-8b52-45cd-832a-5c27bac9fd6f",
   "metadata": {},
   "outputs": [
    {
     "name": "stdout",
     "output_type": "stream",
     "text": [
      "name -> John\n",
      "age -> 30\n",
      "car -> None\n"
     ]
    }
   ],
   "source": [
    "for key, value in data.items():\n",
    "    print(key, value, sep=' -> ')"
   ]
  },
  {
   "cell_type": "code",
   "execution_count": 169,
   "id": "39bfa6c3-3a97-49aa-ba8a-82b8b2cf9ca3",
   "metadata": {},
   "outputs": [
    {
     "data": {
      "text/plain": [
       "[{'name': 'Paul', 'age': 45, 'car': 'Ferrari'},\n",
       " {'name': 'Ophélie', 'age': 36, 'car': 'BMW'},\n",
       " {'name': 'Laura', 'age': 35, 'car': None}]"
      ]
     },
     "execution_count": 169,
     "metadata": {},
     "output_type": "execute_result"
    }
   ],
   "source": [
    "patrimoine = [\n",
    "    {\n",
    "        'name': 'Paul',\n",
    "        'age': 45,\n",
    "        'car': 'Ferrari'\n",
    "    },\n",
    "    {\n",
    "        'name': 'Ophélie',\n",
    "        'age': 36,\n",
    "        'car': 'BMW'\n",
    "    },\n",
    "    {\n",
    "        'name': 'Laura',\n",
    "        'age': 35,\n",
    "        'car': None\n",
    "    },\n",
    "]\n",
    "patrimoine"
   ]
  },
  {
   "cell_type": "code",
   "execution_count": 170,
   "id": "2399e4dd-f4e5-4768-b4f9-b685ed097843",
   "metadata": {},
   "outputs": [
    {
     "data": {
      "text/plain": [
       "list"
      ]
     },
     "execution_count": 170,
     "metadata": {},
     "output_type": "execute_result"
    }
   ],
   "source": [
    "type(patrimoine)"
   ]
  },
  {
   "cell_type": "code",
   "execution_count": 171,
   "id": "64246392-b918-4c25-bb7c-d1fd3aba8273",
   "metadata": {},
   "outputs": [
    {
     "data": {
      "text/plain": [
       "dict"
      ]
     },
     "execution_count": 171,
     "metadata": {},
     "output_type": "execute_result"
    }
   ],
   "source": [
    "type(patrimoine[0])"
   ]
  },
  {
   "cell_type": "code",
   "execution_count": 172,
   "id": "52cf952e-0061-4c1b-a955-3fbd3f7e822a",
   "metadata": {},
   "outputs": [
    {
     "data": {
      "text/plain": [
       "[{'name': 'Paul', 'age': 45, 'car': 'Ferrari'},\n",
       " {'name': 'Ophélie', 'age': 36, 'car': 'BMW'},\n",
       " {'name': 'Laura', 'age': 35, 'car': None},\n",
       " {'name': 'John', 'age': 30, 'car': None}]"
      ]
     },
     "execution_count": 172,
     "metadata": {},
     "output_type": "execute_result"
    }
   ],
   "source": [
    "patrimoine.append(data)\n",
    "patrimoine"
   ]
  },
  {
   "cell_type": "code",
   "execution_count": 174,
   "id": "c4cb1884-27d3-447b-8a8c-5b1710f13716",
   "metadata": {},
   "outputs": [
    {
     "data": {
      "text/plain": [
       "'John'"
      ]
     },
     "execution_count": 174,
     "metadata": {},
     "output_type": "execute_result"
    }
   ],
   "source": [
    "# read value from key\n",
    "data['name']"
   ]
  },
  {
   "cell_type": "code",
   "execution_count": 176,
   "id": "7cdbb6eb-5eb5-45c2-818f-b37b9475e296",
   "metadata": {},
   "outputs": [],
   "source": [
    "# wrong key\n",
    "# KeyError: 'house'\n",
    "# data['house']"
   ]
  },
  {
   "cell_type": "code",
   "execution_count": 177,
   "id": "9a74d790-9335-4e66-a193-8412a3156de5",
   "metadata": {},
   "outputs": [
    {
     "data": {
      "text/plain": [
       "False"
      ]
     },
     "execution_count": 177,
     "metadata": {},
     "output_type": "execute_result"
    }
   ],
   "source": [
    "'house' in data.keys()"
   ]
  },
  {
   "cell_type": "code",
   "execution_count": 179,
   "id": "21a952cf-b498-426a-b62f-9d97b0250bde",
   "metadata": {},
   "outputs": [
    {
     "data": {
      "text/plain": [
       "False"
      ]
     },
     "execution_count": 179,
     "metadata": {},
     "output_type": "execute_result"
    }
   ],
   "source": [
    "# shortcut\n",
    "'house' in data"
   ]
  },
  {
   "cell_type": "code",
   "execution_count": 180,
   "id": "2a1a518b-b83a-4c1a-a2a4-a4930105c7cf",
   "metadata": {},
   "outputs": [
    {
     "data": {
      "text/plain": [
       "{'name': 'John', 'age': 30, 'car': 'Peugeot'}"
      ]
     },
     "execution_count": 180,
     "metadata": {},
     "output_type": "execute_result"
    }
   ],
   "source": [
    "data['car'] = 'Peugeot'\n",
    "data"
   ]
  },
  {
   "cell_type": "code",
   "execution_count": 181,
   "id": "ae1bcc5d-312b-43e3-999e-65e43234e53a",
   "metadata": {},
   "outputs": [
    {
     "data": {
      "text/plain": [
       "[{'name': 'Paul', 'age': 45, 'car': 'Ferrari'},\n",
       " {'name': 'Ophélie', 'age': 36, 'car': 'BMW'},\n",
       " {'name': 'Laura', 'age': 35, 'car': None},\n",
       " {'name': 'John', 'age': 30, 'car': 'Peugeot'}]"
      ]
     },
     "execution_count": 181,
     "metadata": {},
     "output_type": "execute_result"
    }
   ],
   "source": [
    "patrimoine"
   ]
  },
  {
   "cell_type": "code",
   "execution_count": 182,
   "id": "9f798181-15ad-4c59-8c93-ca5e56abee9e",
   "metadata": {},
   "outputs": [
    {
     "data": {
      "text/plain": [
       "{'name': 'John', 'age': 30, 'car': 'Peugeot', 'house': 'Yellow House'}"
      ]
     },
     "execution_count": 182,
     "metadata": {},
     "output_type": "execute_result"
    }
   ],
   "source": [
    "data['house'] = 'Yellow House'\n",
    "data"
   ]
  },
  {
   "cell_type": "code",
   "execution_count": 183,
   "id": "03b02dfb-0d79-43bc-b3c9-8b18f33f42fa",
   "metadata": {},
   "outputs": [
    {
     "data": {
      "text/plain": [
       "[{'name': 'Paul', 'age': 45, 'car': 'Ferrari'},\n",
       " {'name': 'Ophélie', 'age': 36, 'car': 'BMW'},\n",
       " {'name': 'Laura', 'age': 35, 'car': None},\n",
       " {'name': 'John', 'age': 30, 'car': 'Peugeot', 'house': 'Yellow House'}]"
      ]
     },
     "execution_count": 183,
     "metadata": {},
     "output_type": "execute_result"
    }
   ],
   "source": [
    "patrimoine"
   ]
  },
  {
   "cell_type": "code",
   "execution_count": 184,
   "id": "71bab71e-0ae9-4f04-a0ff-3c9901fc97b0",
   "metadata": {},
   "outputs": [
    {
     "data": {
      "text/plain": [
       "{'name': 'John', 'age': 30, 'car': 'Peugeot'}"
      ]
     },
     "execution_count": 184,
     "metadata": {},
     "output_type": "execute_result"
    }
   ],
   "source": [
    "del data['house']\n",
    "data"
   ]
  },
  {
   "cell_type": "code",
   "execution_count": 185,
   "id": "214f82ef-d0bb-4d04-9c40-a03ca757eb71",
   "metadata": {},
   "outputs": [
    {
     "data": {
      "text/plain": [
       "[{'name': 'Paul', 'age': 45, 'car': 'Ferrari'},\n",
       " {'name': 'Ophélie', 'age': 36, 'car': 'BMW'},\n",
       " {'name': 'Laura', 'age': 35, 'car': None},\n",
       " {'name': 'John', 'age': 30, 'car': 'Peugeot'}]"
      ]
     },
     "execution_count": 185,
     "metadata": {},
     "output_type": "execute_result"
    }
   ],
   "source": [
    "patrimoine"
   ]
  },
  {
   "cell_type": "code",
   "execution_count": 186,
   "id": "dbc8fdf7-7f42-4901-abc1-083681da1252",
   "metadata": {},
   "outputs": [],
   "source": [
    "# display the 'patrimoine' of each person\n",
    "# Bonus: for cars replace None by a more human readable display"
   ]
  },
  {
   "cell_type": "code",
   "execution_count": 187,
   "id": "3f9fe66c-ec47-418e-9b67-391fc40ca296",
   "metadata": {},
   "outputs": [
    {
     "name": "stdout",
     "output_type": "stream",
     "text": [
      "Paul ( 45 ) has this car: Ferrari\n",
      "Ophélie ( 36 ) has this car: BMW\n",
      "Laura ( 35 ) has this car: None\n",
      "John ( 30 ) has this car: Peugeot\n"
     ]
    }
   ],
   "source": [
    "for person_info in patrimoine:\n",
    "    print(person_info['name'], '(', person_info['age'], ') has this car:', person_info['car']) "
   ]
  },
  {
   "cell_type": "code",
   "execution_count": 188,
   "id": "826c4ad5-8fe9-4ae0-ba5c-9f3a4a827ccb",
   "metadata": {},
   "outputs": [
    {
     "name": "stdout",
     "output_type": "stream",
     "text": [
      "Paul (45) has this car: Ferrari\n",
      "Ophélie (36) has this car: BMW\n",
      "Laura (35) has this car: None\n",
      "John (30) has this car: Peugeot\n"
     ]
    }
   ],
   "source": [
    "for person_info in patrimoine:\n",
    "    print(person_info['name'], ' (', person_info['age'], ') has this car: ', person_info['car'], sep='') "
   ]
  },
  {
   "cell_type": "code",
   "execution_count": 189,
   "id": "ded6809a-2aaa-4108-8019-0c37fb704cd0",
   "metadata": {},
   "outputs": [
    {
     "name": "stdout",
     "output_type": "stream",
     "text": [
      "Paul (45) has a Ferrari\n",
      "Ophélie (36) has a BMW\n",
      "Laura (35) has no car\n",
      "John (30) has a Peugeot\n"
     ]
    }
   ],
   "source": [
    "for person_info in patrimoine:\n",
    "    print(person_info['name'], ' (', person_info['age'], ') has ', sep='', end='')\n",
    "    if person_info['car'] is not None:\n",
    "        print('a', person_info['car'])\n",
    "    else:\n",
    "        print('no car')"
   ]
  },
  {
   "cell_type": "markdown",
   "id": "28cbf14a-d5d6-4442-9100-40c75ebd6bd5",
   "metadata": {},
   "source": [
    "### Expression If"
   ]
  },
  {
   "cell_type": "code",
   "execution_count": 193,
   "id": "ae381ca2-9d82-4a22-8b24-8a04715f8837",
   "metadata": {},
   "outputs": [
    {
     "name": "stdout",
     "output_type": "stream",
     "text": [
      "Paul (45) has a Ferrari\n",
      "Ophélie (36) has a BMW\n",
      "Laura (35) has no car\n",
      "John (30) has a Peugeot\n"
     ]
    }
   ],
   "source": [
    "for person_info in patrimoine:\n",
    "    # expression if (ternary expression)\n",
    "    info_car = ('a ' + person_info['car']) if person_info['car'] is not None else 'no car'\n",
    "    print(\n",
    "        person_info['name'], \n",
    "        ' (', \n",
    "        person_info['age'], \n",
    "        ') has ',\n",
    "        info_car,\n",
    "        sep=''\n",
    "    ) "
   ]
  },
  {
   "cell_type": "code",
   "execution_count": 191,
   "id": "04ea2e08-2b2e-4ba3-a018-a75b3587215c",
   "metadata": {},
   "outputs": [
    {
     "data": {
      "text/plain": [
       "'OK'"
      ]
     },
     "execution_count": 191,
     "metadata": {},
     "output_type": "execute_result"
    }
   ],
   "source": [
    "x = 3\n",
    "'OK' if x < 6 else 'KO' "
   ]
  },
  {
   "cell_type": "code",
   "execution_count": 194,
   "id": "2769cd60-b5a0-4357-8954-c398f3c8609c",
   "metadata": {},
   "outputs": [
    {
     "name": "stdout",
     "output_type": "stream",
     "text": [
      "17.25 Muret\n"
     ]
    }
   ],
   "source": [
    "print(temperature, city)"
   ]
  },
  {
   "cell_type": "markdown",
   "id": "6f33aa3d-9e77-416d-a1ea-94f8c95de112",
   "metadata": {},
   "source": [
    "## Formatted String: f-string\n",
    "- https://docs.python.org/3/library/string.html#formatstrings\n",
    "- https://docs.python.org/3/library/datetime.html#strftime-and-strptime-behavior"
   ]
  },
  {
   "cell_type": "code",
   "execution_count": 198,
   "id": "a45e8116-41d6-45a9-941b-4812704f78f9",
   "metadata": {},
   "outputs": [
    {
     "name": "stdout",
     "output_type": "stream",
     "text": [
      "à Muret il fait 17.25°C\n"
     ]
    }
   ],
   "source": [
    "# python 3.6\n",
    "description = f\"à {city} il fait {temperature}°C\"\n",
    "print(description)"
   ]
  },
  {
   "cell_type": "code",
   "execution_count": 199,
   "id": "ad1516a5-e57e-4ebb-8d96-49ed9970235e",
   "metadata": {},
   "outputs": [
    {
     "data": {
      "text/plain": [
       "'à Muret il fait 17.25°C'"
      ]
     },
     "execution_count": 199,
     "metadata": {},
     "output_type": "execute_result"
    }
   ],
   "source": [
    "# python 3.0+\n",
    "description_template = \"à {} il fait {}°C\"\n",
    "description_template.format(city, temperature)"
   ]
  },
  {
   "cell_type": "code",
   "execution_count": 203,
   "id": "3b7731d3-1e44-422e-ad72-4b56139b8a3f",
   "metadata": {},
   "outputs": [
    {
     "name": "stdout",
     "output_type": "stream",
     "text": [
      "pi = 3.141592653589793\n",
      "pi = 3.14\n"
     ]
    }
   ],
   "source": [
    "print(f\"pi = {math.pi}\")\n",
    "print(f\"pi = {math.pi:.2f}\")"
   ]
  },
  {
   "cell_type": "code",
   "execution_count": 206,
   "id": "9594e98e-b66e-4381-bb5f-7785944d414b",
   "metadata": {},
   "outputs": [
    {
     "name": "stdout",
     "output_type": "stream",
     "text": [
      "Paul (45) has a Ferrari\n",
      "Ophélie (36) has a BMW\n",
      "Laura (35) has no car\n",
      "John (30) has a Peugeot\n"
     ]
    }
   ],
   "source": [
    "for person_info in patrimoine:\n",
    "    # expression if (ternary expression)\n",
    "    info_car = ('a ' + person_info['car']) if person_info['car'] is not None else 'no car'\n",
    "    info_display = f'{person_info['name']} ({person_info['age']}) has {info_car}'\n",
    "    print(info_display)"
   ]
  },
  {
   "cell_type": "markdown",
   "id": "158945c3-a852-4e27-b0e9-2e3e811cc3ce",
   "metadata": {},
   "source": [
    "## String join"
   ]
  },
  {
   "cell_type": "code",
   "execution_count": 208,
   "id": "b3ec894f-d48c-44fb-939f-8868a33eca7c",
   "metadata": {},
   "outputs": [
    {
     "data": {
      "text/plain": [
       "'Saint-Orens-de-Gameville, Revel, Roquettes, Pau, Albertville, Zalana, Rodez, Muret'"
      ]
     },
     "execution_count": 208,
     "metadata": {},
     "output_type": "execute_result"
    }
   ],
   "source": [
    "\", \".join(cities)"
   ]
  },
  {
   "cell_type": "code",
   "execution_count": 210,
   "id": "352c5150-8858-4b6b-b479-5a5f87bf374c",
   "metadata": {},
   "outputs": [
    {
     "data": {
      "text/plain": [
       "'24, 5, 9, 3, 11, 6, 5, 5'"
      ]
     },
     "execution_count": 210,
     "metadata": {},
     "output_type": "execute_result"
    }
   ],
   "source": [
    "\", \".join(str(len(city)) for city in cities)"
   ]
  },
  {
   "cell_type": "markdown",
   "id": "8cac435e-4424-4154-8465-ca50f40c6ee1",
   "metadata": {},
   "source": [
    "## Integer formats"
   ]
  },
  {
   "cell_type": "code",
   "execution_count": 211,
   "id": "84e4b40d-60fc-4b7f-98cc-6a671f1c0a43",
   "metadata": {},
   "outputs": [
    {
     "data": {
      "text/plain": [
       "123"
      ]
     },
     "execution_count": 211,
     "metadata": {},
     "output_type": "execute_result"
    }
   ],
   "source": [
    "int('123')"
   ]
  },
  {
   "cell_type": "code",
   "execution_count": 213,
   "id": "ca4dedac-3f6a-4f62-81e5-ac49ee80f494",
   "metadata": {},
   "outputs": [],
   "source": [
    "# ValueError: invalid literal for int() with base 10: 'abc'\n",
    "# int('abc')"
   ]
  },
  {
   "cell_type": "code",
   "execution_count": 214,
   "id": "64fedfd2-eebb-4853-a744-966645cd7ce8",
   "metadata": {},
   "outputs": [
    {
     "data": {
      "text/plain": [
       "2748"
      ]
     },
     "execution_count": 214,
     "metadata": {},
     "output_type": "execute_result"
    }
   ],
   "source": [
    "int('abc', base=16)"
   ]
  },
  {
   "cell_type": "code",
   "execution_count": 215,
   "id": "fdba306e-112f-4219-b8b4-c0922a9fa664",
   "metadata": {},
   "outputs": [
    {
     "data": {
      "text/plain": [
       "2748"
      ]
     },
     "execution_count": 215,
     "metadata": {},
     "output_type": "execute_result"
    }
   ],
   "source": [
    "0xabc"
   ]
  },
  {
   "cell_type": "code",
   "execution_count": 216,
   "id": "9f952c30-eff5-40fc-873a-a648e2d6f053",
   "metadata": {},
   "outputs": [
    {
     "data": {
      "text/plain": [
       "15"
      ]
     },
     "execution_count": 216,
     "metadata": {},
     "output_type": "execute_result"
    }
   ],
   "source": [
    "0b1111"
   ]
  },
  {
   "cell_type": "code",
   "execution_count": 218,
   "id": "83734df8-3bd0-491c-b1b1-1a4b221fb5e0",
   "metadata": {},
   "outputs": [
    {
     "data": {
      "text/plain": [
       "True"
      ]
     },
     "execution_count": 218,
     "metadata": {},
     "output_type": "execute_result"
    }
   ],
   "source": [
    "0b1111 == 0xF"
   ]
  },
  {
   "cell_type": "code",
   "execution_count": 217,
   "id": "8c835e09-4c03-4d21-8a36-52b8da1d1a6b",
   "metadata": {},
   "outputs": [
    {
     "data": {
      "text/plain": [
       "511"
      ]
     },
     "execution_count": 217,
     "metadata": {},
     "output_type": "execute_result"
    }
   ],
   "source": [
    "0o777"
   ]
  },
  {
   "cell_type": "markdown",
   "id": "01582108-b000-431f-a2d2-656e8d354667",
   "metadata": {},
   "source": [
    "## Pandas"
   ]
  },
  {
   "cell_type": "code",
   "execution_count": 205,
   "id": "fc048179-0ec9-482c-a87a-dd90005e737d",
   "metadata": {},
   "outputs": [
    {
     "data": {
      "text/html": [
       "<div>\n",
       "<style scoped>\n",
       "    .dataframe tbody tr th:only-of-type {\n",
       "        vertical-align: middle;\n",
       "    }\n",
       "\n",
       "    .dataframe tbody tr th {\n",
       "        vertical-align: top;\n",
       "    }\n",
       "\n",
       "    .dataframe thead th {\n",
       "        text-align: right;\n",
       "    }\n",
       "</style>\n",
       "<table border=\"1\" class=\"dataframe\">\n",
       "  <thead>\n",
       "    <tr style=\"text-align: right;\">\n",
       "      <th></th>\n",
       "      <th>name</th>\n",
       "      <th>age</th>\n",
       "      <th>car</th>\n",
       "    </tr>\n",
       "  </thead>\n",
       "  <tbody>\n",
       "    <tr>\n",
       "      <th>0</th>\n",
       "      <td>Paul</td>\n",
       "      <td>45</td>\n",
       "      <td>Ferrari</td>\n",
       "    </tr>\n",
       "    <tr>\n",
       "      <th>1</th>\n",
       "      <td>Ophélie</td>\n",
       "      <td>36</td>\n",
       "      <td>BMW</td>\n",
       "    </tr>\n",
       "    <tr>\n",
       "      <th>2</th>\n",
       "      <td>Laura</td>\n",
       "      <td>35</td>\n",
       "      <td>None</td>\n",
       "    </tr>\n",
       "    <tr>\n",
       "      <th>3</th>\n",
       "      <td>John</td>\n",
       "      <td>30</td>\n",
       "      <td>Peugeot</td>\n",
       "    </tr>\n",
       "  </tbody>\n",
       "</table>\n",
       "</div>"
      ],
      "text/plain": [
       "      name  age      car\n",
       "0     Paul   45  Ferrari\n",
       "1  Ophélie   36      BMW\n",
       "2    Laura   35     None\n",
       "3     John   30  Peugeot"
      ]
     },
     "execution_count": 205,
     "metadata": {},
     "output_type": "execute_result"
    }
   ],
   "source": [
    "df_patrimoine = pd.DataFrame(patrimoine)\n",
    "df_patrimoine"
   ]
  },
  {
   "cell_type": "markdown",
   "id": "48ff29c0-547c-47f8-873b-4f695a501127",
   "metadata": {},
   "source": [
    "## Sort with criteria"
   ]
  },
  {
   "cell_type": "code",
   "execution_count": 219,
   "id": "649761c1-af18-499c-a890-0df9c6906f63",
   "metadata": {},
   "outputs": [
    {
     "data": {
      "text/plain": [
       "['Saint-Orens-de-Gameville',\n",
       " 'Revel',\n",
       " 'Roquettes',\n",
       " 'Pau',\n",
       " 'Albertville',\n",
       " 'Zalana',\n",
       " 'Rodez',\n",
       " 'Muret']"
      ]
     },
     "execution_count": 219,
     "metadata": {},
     "output_type": "execute_result"
    }
   ],
   "source": [
    "cities"
   ]
  },
  {
   "cell_type": "code",
   "execution_count": 221,
   "id": "0ce490f8-e541-4c41-86ac-b7e61bb4e61c",
   "metadata": {},
   "outputs": [
    {
     "data": {
      "text/plain": [
       "\u001b[31mSignature:\u001b[39m sorted(iterable, /, *, key=\u001b[38;5;28;01mNone\u001b[39;00m, reverse=\u001b[38;5;28;01mFalse\u001b[39;00m)\n",
       "\u001b[31mDocstring:\u001b[39m\n",
       "Return a new list containing all items from the iterable in ascending order.\n",
       "\n",
       "A custom key function can be supplied to customize the sort order, and the\n",
       "reverse flag can be set to request the result in descending order.\n",
       "\u001b[31mType:\u001b[39m      builtin_function_or_method"
      ]
     },
     "metadata": {},
     "output_type": "display_data"
    }
   ],
   "source": [
    "sorted?"
   ]
  },
  {
   "cell_type": "code",
   "execution_count": 222,
   "id": "471d064a-5ff0-4e3f-baf7-d1695f37a6e5",
   "metadata": {},
   "outputs": [
    {
     "data": {
      "text/plain": [
       "\u001b[31mSignature:\u001b[39m cities.sort(*, key=\u001b[38;5;28;01mNone\u001b[39;00m, reverse=\u001b[38;5;28;01mFalse\u001b[39;00m)\n",
       "\u001b[31mDocstring:\u001b[39m\n",
       "Sort the list in ascending order and return None.\n",
       "\n",
       "The sort is in-place (i.e. the list itself is modified) and stable (i.e. the\n",
       "order of two equal elements is maintained).\n",
       "\n",
       "If a key function is given, apply it once to each list item and sort them,\n",
       "ascending or descending, according to their function values.\n",
       "\n",
       "The reverse flag can be set to sort in descending order.\n",
       "\u001b[31mType:\u001b[39m      builtin_function_or_method"
      ]
     },
     "metadata": {},
     "output_type": "display_data"
    }
   ],
   "source": [
    "cities.sort?"
   ]
  },
  {
   "cell_type": "code",
   "execution_count": 223,
   "id": "56d83651-fd17-41e0-8e10-00e37c5ce0bc",
   "metadata": {},
   "outputs": [],
   "source": [
    "cities.sort()"
   ]
  },
  {
   "cell_type": "code",
   "execution_count": 224,
   "id": "67181bef-f300-44e7-a381-154a8019e88b",
   "metadata": {},
   "outputs": [
    {
     "data": {
      "text/plain": [
       "['Albertville',\n",
       " 'Muret',\n",
       " 'Pau',\n",
       " 'Revel',\n",
       " 'Rodez',\n",
       " 'Roquettes',\n",
       " 'Saint-Orens-de-Gameville',\n",
       " 'Zalana']"
      ]
     },
     "execution_count": 224,
     "metadata": {},
     "output_type": "execute_result"
    }
   ],
   "source": [
    "cities"
   ]
  },
  {
   "cell_type": "code",
   "execution_count": 225,
   "id": "f3439a20-ed61-4574-aa2c-11c6c2d7d95c",
   "metadata": {},
   "outputs": [
    {
     "data": {
      "text/plain": [
       "['Zalana',\n",
       " 'Saint-Orens-de-Gameville',\n",
       " 'Roquettes',\n",
       " 'Rodez',\n",
       " 'Revel',\n",
       " 'Pau',\n",
       " 'Muret',\n",
       " 'Albertville']"
      ]
     },
     "execution_count": 225,
     "metadata": {},
     "output_type": "execute_result"
    }
   ],
   "source": [
    "cities.sort(reverse=True)\n",
    "cities"
   ]
  },
  {
   "cell_type": "code",
   "execution_count": 227,
   "id": "f9cba3d7-b646-4b5b-b527-997480f0e0e7",
   "metadata": {},
   "outputs": [
    {
     "data": {
      "text/plain": [
       "['Pau',\n",
       " 'Rodez',\n",
       " 'Revel',\n",
       " 'Muret',\n",
       " 'Zalana',\n",
       " 'Roquettes',\n",
       " 'Albertville',\n",
       " 'Saint-Orens-de-Gameville']"
      ]
     },
     "execution_count": 227,
     "metadata": {},
     "output_type": "execute_result"
    }
   ],
   "source": [
    "cities.sort(key=len)\n",
    "cities"
   ]
  },
  {
   "cell_type": "code",
   "execution_count": 228,
   "id": "8c5a5ec1-becb-4368-b68f-fd3084bafd43",
   "metadata": {},
   "outputs": [
    {
     "data": {
      "text/plain": [
       "['Saint-Orens-de-Gameville',\n",
       " 'Albertville',\n",
       " 'Roquettes',\n",
       " 'Zalana',\n",
       " 'Rodez',\n",
       " 'Revel',\n",
       " 'Muret',\n",
       " 'Pau']"
      ]
     },
     "execution_count": 228,
     "metadata": {},
     "output_type": "execute_result"
    }
   ],
   "source": [
    "cities.sort(key=len, reverse=True)\n",
    "cities"
   ]
  },
  {
   "cell_type": "code",
   "execution_count": 229,
   "id": "fdae636e-ee4f-4cb1-b0c6-096e088ea4d3",
   "metadata": {},
   "outputs": [],
   "source": [
    "cities.extend(['tarbes', ' Biarritz'])"
   ]
  },
  {
   "cell_type": "code",
   "execution_count": 231,
   "id": "653818f1-c4ee-48a7-851b-d618f054d856",
   "metadata": {},
   "outputs": [
    {
     "data": {
      "text/plain": [
       "[' Biarritz',\n",
       " 'Albertville',\n",
       " 'Muret',\n",
       " 'Pau',\n",
       " 'Revel',\n",
       " 'Rodez',\n",
       " 'Roquettes',\n",
       " 'Saint-Orens-de-Gameville',\n",
       " 'Zalana',\n",
       " 'tarbes']"
      ]
     },
     "execution_count": 231,
     "metadata": {},
     "output_type": "execute_result"
    }
   ],
   "source": [
    "cities.sort()\n",
    "cities"
   ]
  },
  {
   "cell_type": "code",
   "execution_count": 232,
   "id": "5b66a21c-039f-4184-8987-607e51e2791a",
   "metadata": {},
   "outputs": [
    {
     "data": {
      "text/plain": [
       "' Biarritz'"
      ]
     },
     "execution_count": 232,
     "metadata": {},
     "output_type": "execute_result"
    }
   ],
   "source": [
    "city = cities[0]\n",
    "city"
   ]
  },
  {
   "cell_type": "code",
   "execution_count": 234,
   "id": "2dfaa25a-c73e-4c2f-91c5-26225629daeb",
   "metadata": {},
   "outputs": [
    {
     "data": {
      "text/plain": [
       "'BIARRITZ'"
      ]
     },
     "execution_count": 234,
     "metadata": {},
     "output_type": "execute_result"
    }
   ],
   "source": [
    "city.strip().upper()"
   ]
  },
  {
   "cell_type": "code",
   "execution_count": 236,
   "id": "aa94c745-a569-497d-8f0f-802b5cb2eb8b",
   "metadata": {},
   "outputs": [
    {
     "data": {
      "text/plain": [
       "['Albertville',\n",
       " ' Biarritz',\n",
       " 'Muret',\n",
       " 'Pau',\n",
       " 'Revel',\n",
       " 'Rodez',\n",
       " 'Roquettes',\n",
       " 'Saint-Orens-de-Gameville',\n",
       " 'tarbes',\n",
       " 'Zalana']"
      ]
     },
     "execution_count": 236,
     "metadata": {},
     "output_type": "execute_result"
    }
   ],
   "source": [
    "cities.sort(key=lambda city: city.strip().upper())\n",
    "cities"
   ]
  },
  {
   "cell_type": "code",
   "execution_count": 238,
   "id": "1d237315-9721-4c13-a801-a72a4a16cd58",
   "metadata": {},
   "outputs": [
    {
     "data": {
      "text/plain": [
       "9"
      ]
     },
     "execution_count": 238,
     "metadata": {},
     "output_type": "execute_result"
    }
   ],
   "source": [
    "# λx.x^2\n",
    "f = lambda x: x**2\n",
    "f(3)"
   ]
  },
  {
   "cell_type": "code",
   "execution_count": null,
   "id": "fb4a9afa-2fda-4c2c-bfaf-05e9d556aa46",
   "metadata": {},
   "outputs": [],
   "source": [
    "x -> x**2"
   ]
  },
  {
   "cell_type": "code",
   "execution_count": 242,
   "id": "99e09921-1142-45c6-80e6-2478b168d18e",
   "metadata": {},
   "outputs": [
    {
     "name": "stdout",
     "output_type": "stream",
     "text": [
      "東京\n",
      "Москва\n",
      "الدار البيضاء\n",
      "北京\n",
      "💕😍🦜🍻\n"
     ]
    }
   ],
   "source": [
    "# python strings uses Unicode characters\n",
    "words_international = [\n",
    "    '東京',\n",
    "    'Москва',\n",
    "    'الدار البيضاء',\n",
    "    '北京',\n",
    "    '💕😍🦜🍻'\n",
    "]\n",
    "for word in words_international:\n",
    "    print(word)"
   ]
  },
  {
   "cell_type": "code",
   "execution_count": 240,
   "id": "1879848e-a354-4b87-8e01-b1a1d7274ed2",
   "metadata": {},
   "outputs": [
    {
     "data": {
      "text/plain": [
       "False"
      ]
     },
     "execution_count": 240,
     "metadata": {},
     "output_type": "execute_result"
    }
   ],
   "source": [
    "# What ?\n",
    "'М' == 'M'"
   ]
  },
  {
   "cell_type": "code",
   "execution_count": 246,
   "id": "ee3e7b3f-3475-483a-aa41-2db7591cafb7",
   "metadata": {},
   "outputs": [
    {
     "name": "stdout",
     "output_type": "stream",
     "text": [
      "ISO-8859-1 -> b'\\xe9t\\xe9'\n",
      "ISO-8859-15 -> b'\\xe9t\\xe9'\n",
      "CP1252 -> b'\\xe9t\\xe9'\n",
      "UTF-8 -> b'\\xc3\\xa9t\\xc3\\xa9'\n",
      "UTF-16 -> b'\\xff\\xfe\\xe9\\x00t\\x00\\xe9\\x00'\n"
     ]
    }
   ],
   "source": [
    "for encoding in 'ISO-8859-1', 'ISO-8859-15', 'CP1252', 'UTF-8', 'UTF-16':\n",
    "    code = 'été'.encode(encoding)\n",
    "    print(encoding, code, sep=' -> ')"
   ]
  },
  {
   "cell_type": "code",
   "execution_count": 248,
   "id": "bb87572d-ed65-40a0-a284-2831568cddf2",
   "metadata": {},
   "outputs": [
    {
     "name": "stdout",
     "output_type": "stream",
     "text": [
      "ISO-8859-15 -> b'\\xa4'\n",
      "CP1252 -> b'\\x80'\n",
      "UTF-8 -> b'\\xe2\\x82\\xac'\n",
      "UTF-16 -> b'\\xff\\xfe\\xac '\n"
     ]
    }
   ],
   "source": [
    "for encoding in  'ISO-8859-15', 'CP1252', 'UTF-8', 'UTF-16':\n",
    "    code = '€'.encode(encoding)\n",
    "    print(encoding, code, sep=' -> ')"
   ]
  },
  {
   "cell_type": "code",
   "execution_count": 255,
   "id": "9380201c-fe0c-41ac-aee7-3e521b77288a",
   "metadata": {},
   "outputs": [],
   "source": [
    "# UnicodeDecodeError: 'utf-8' codec can't decode byte 0x80 in position 0: invalid start byte\n",
    "# b'\\x80'.decode('UTF-8')"
   ]
  },
  {
   "cell_type": "code",
   "execution_count": 254,
   "id": "2454b5d6-a140-4b04-b9e3-d5849ba80bc2",
   "metadata": {},
   "outputs": [
    {
     "data": {
      "text/plain": [
       "'Ã©tÃ©'"
      ]
     },
     "execution_count": 254,
     "metadata": {},
     "output_type": "execute_result"
    }
   ],
   "source": [
    "b'\\xc3\\xa9t\\xc3\\xa9'.decode('CP1252')"
   ]
  },
  {
   "cell_type": "code",
   "execution_count": 220,
   "id": "dc6efdfc-a641-4e90-bff7-0c04ee3a6944",
   "metadata": {},
   "outputs": [
    {
     "data": {
      "text/plain": [
       "['été',\n",
       " 'étage',\n",
       " 'étuve',\n",
       " 'abricot',\n",
       " 'Appareil',\n",
       " 'cœur',\n",
       " 'cobra',\n",
       " 'corde',\n",
       " 'Zèbre',\n",
       " 'zoo',\n",
       " 'ça',\n",
       " 'carte',\n",
       " 'caisse']"
      ]
     },
     "execution_count": 220,
     "metadata": {},
     "output_type": "execute_result"
    }
   ],
   "source": [
    "words"
   ]
  }
 ],
 "metadata": {
  "kernelspec": {
   "display_name": "Python 3 (ipykernel)",
   "language": "python",
   "name": "python3"
  },
  "language_info": {
   "codemirror_mode": {
    "name": "ipython",
    "version": 3
   },
   "file_extension": ".py",
   "mimetype": "text/x-python",
   "name": "python",
   "nbconvert_exporter": "python",
   "pygments_lexer": "ipython3",
   "version": "3.12.8"
  }
 },
 "nbformat": 4,
 "nbformat_minor": 5
}
