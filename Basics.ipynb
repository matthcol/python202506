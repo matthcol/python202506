{
 "cells": [
  {
   "cell_type": "markdown",
   "id": "a7a5a437-c4ff-459e-8528-db227d5ae729",
   "metadata": {},
   "source": [
    "# Python Basics\n",
    "\n",
    "Links:\n",
    "- https://www.python.org/\n",
    "- https://pypi.org/"
   ]
  },
  {
   "cell_type": "code",
   "execution_count": 1,
   "id": "e2baf014-548f-41eb-b0d1-05399c236b30",
   "metadata": {},
   "outputs": [],
   "source": [
    "import math\n",
    "import numpy as np"
   ]
  },
  {
   "cell_type": "markdown",
   "id": "2051abc5-7573-4d95-b50e-8f32663786f0",
   "metadata": {},
   "source": [
    "## 1st Example: Hello World"
   ]
  },
  {
   "cell_type": "code",
   "execution_count": 2,
   "id": "93283239-12e3-44bc-a782-e3adc01b60c9",
   "metadata": {},
   "outputs": [
    {
     "name": "stdout",
     "output_type": "stream",
     "text": [
      "Coucou :)\n"
     ]
    }
   ],
   "source": [
    "print('Coucou :)')"
   ]
  },
  {
   "cell_type": "markdown",
   "id": "bf6b7677-ef54-41ec-9b64-ff38f18e445f",
   "metadata": {},
   "source": [
    "## Variables and basic types\n",
    "### Numeric data\n",
    "- integers: int\n",
    "- floating numbers: float (https://fr.wikipedia.org/wiki/IEEE_754)\n",
    "\n",
    "NB: float type is automatically adapted to the architecture (32 or 64 bits)"
   ]
  },
  {
   "cell_type": "code",
   "execution_count": 3,
   "id": "753385bb-aa11-4213-9255-1a7de4a19d4e",
   "metadata": {},
   "outputs": [
    {
     "data": {
      "text/plain": [
       "4"
      ]
     },
     "execution_count": 3,
     "metadata": {},
     "output_type": "execute_result"
    }
   ],
   "source": [
    "nb_persons = 4\n",
    "nb_persons"
   ]
  },
  {
   "cell_type": "code",
   "execution_count": 4,
   "id": "958da753-6fd4-4fa2-89cb-d7d45b5e8786",
   "metadata": {},
   "outputs": [
    {
     "data": {
      "text/plain": [
       "int"
      ]
     },
     "execution_count": 4,
     "metadata": {},
     "output_type": "execute_result"
    }
   ],
   "source": [
    "type(nb_persons)"
   ]
  },
  {
   "cell_type": "code",
   "execution_count": 5,
   "id": "84450e61-36b8-4b50-ab82-e8ec7ed7063f",
   "metadata": {},
   "outputs": [
    {
     "data": {
      "text/plain": [
       "17.25"
      ]
     },
     "execution_count": 5,
     "metadata": {},
     "output_type": "execute_result"
    }
   ],
   "source": [
    "temperature = 17.25\n",
    "temperature"
   ]
  },
  {
   "cell_type": "code",
   "execution_count": 6,
   "id": "6edfd4d7-8dcd-4c6a-a948-963b753e46b7",
   "metadata": {},
   "outputs": [
    {
     "data": {
      "text/plain": [
       "float"
      ]
     },
     "execution_count": 6,
     "metadata": {},
     "output_type": "execute_result"
    }
   ],
   "source": [
    "type(temperature)"
   ]
  },
  {
   "cell_type": "code",
   "execution_count": 7,
   "id": "9764f7df-f4ba-4164-a024-79c3ac7c1ddf",
   "metadata": {},
   "outputs": [
    {
     "data": {
      "text/plain": [
       "str"
      ]
     },
     "execution_count": 7,
     "metadata": {},
     "output_type": "execute_result"
    }
   ],
   "source": [
    "type('4')"
   ]
  },
  {
   "cell_type": "code",
   "execution_count": 8,
   "id": "c364ebdf-d610-46de-bc76-01fa8628df86",
   "metadata": {},
   "outputs": [
    {
     "data": {
      "text/plain": [
       "str"
      ]
     },
     "execution_count": 8,
     "metadata": {},
     "output_type": "execute_result"
    }
   ],
   "source": [
    "type(\"ceci est 1 texte\")"
   ]
  },
  {
   "cell_type": "code",
   "execution_count": 9,
   "id": "8cb6b053-0e4e-4e12-a36a-6a34179329b5",
   "metadata": {},
   "outputs": [
    {
     "data": {
      "text/plain": [
       "5"
      ]
     },
     "execution_count": 9,
     "metadata": {},
     "output_type": "execute_result"
    }
   ],
   "source": [
    "nb_persons = 5\n",
    "nb_persons"
   ]
  },
  {
   "cell_type": "code",
   "execution_count": 10,
   "id": "917c3d0c-2e0f-41df-ad69-2884ad913038",
   "metadata": {},
   "outputs": [
    {
     "data": {
      "text/plain": [
       "50"
      ]
     },
     "execution_count": 10,
     "metadata": {},
     "output_type": "execute_result"
    }
   ],
   "source": [
    "nb_persons * 10"
   ]
  },
  {
   "cell_type": "code",
   "execution_count": 11,
   "id": "79257130-95ac-4df5-977a-af867924e3ae",
   "metadata": {},
   "outputs": [
    {
     "data": {
      "text/plain": [
       "50"
      ]
     },
     "execution_count": 11,
     "metadata": {},
     "output_type": "execute_result"
    }
   ],
   "source": [
    "nb_persons_total = nb_persons * 10\n",
    "nb_persons_total"
   ]
  },
  {
   "cell_type": "code",
   "execution_count": 12,
   "id": "dc2ca88e-a1d6-4ffc-b9bf-a2435892a238",
   "metadata": {},
   "outputs": [
    {
     "data": {
      "text/plain": [
       "8"
      ]
     },
     "execution_count": 12,
     "metadata": {},
     "output_type": "execute_result"
    }
   ],
   "source": [
    "(nb_persons - 3) * 2 + 4 "
   ]
  },
  {
   "cell_type": "code",
   "execution_count": 13,
   "id": "09769356-2187-4045-8f9c-1065bd7f42ff",
   "metadata": {},
   "outputs": [
    {
     "data": {
      "text/plain": [
       "4.166666666666667"
      ]
     },
     "execution_count": 13,
     "metadata": {},
     "output_type": "execute_result"
    }
   ],
   "source": [
    "# division => float\n",
    "nb_persons_total / 12"
   ]
  },
  {
   "cell_type": "code",
   "execution_count": 14,
   "id": "705dff6a-5b2e-419f-8b77-e0f6ba343050",
   "metadata": {},
   "outputs": [
    {
     "data": {
      "text/plain": [
       "4"
      ]
     },
     "execution_count": 14,
     "metadata": {},
     "output_type": "execute_result"
    }
   ],
   "source": [
    "# quotient\n",
    "nb_persons_total // 12"
   ]
  },
  {
   "cell_type": "code",
   "execution_count": 15,
   "id": "da6bcc6c-9385-4213-94fd-6cf22a97bac3",
   "metadata": {},
   "outputs": [
    {
     "data": {
      "text/plain": [
       "2"
      ]
     },
     "execution_count": 15,
     "metadata": {},
     "output_type": "execute_result"
    }
   ],
   "source": [
    "# reminder:\n",
    "nb_persons_total % 12"
   ]
  },
  {
   "cell_type": "code",
   "execution_count": 16,
   "id": "84b6bc1f-b730-494a-9df9-b1b8cfca8c10",
   "metadata": {},
   "outputs": [
    {
     "data": {
      "text/plain": [
       "(4, 2)"
      ]
     },
     "execution_count": 16,
     "metadata": {},
     "output_type": "execute_result"
    }
   ],
   "source": [
    "# quotient + reminder\n",
    "divmod(nb_persons_total, 12)"
   ]
  },
  {
   "cell_type": "code",
   "execution_count": 17,
   "id": "6f45e574-2748-4c28-aab6-8de6e48a78c4",
   "metadata": {},
   "outputs": [
    {
     "data": {
      "text/plain": [
       "50"
      ]
     },
     "execution_count": 17,
     "metadata": {},
     "output_type": "execute_result"
    }
   ],
   "source": [
    "nb_persons_total"
   ]
  },
  {
   "cell_type": "code",
   "execution_count": 18,
   "id": "ed292769-6a58-4626-b2a4-c30522213119",
   "metadata": {},
   "outputs": [
    {
     "data": {
      "text/plain": [
       "1024"
      ]
     },
     "execution_count": 18,
     "metadata": {},
     "output_type": "execute_result"
    }
   ],
   "source": [
    "# power operator\n",
    "2**10"
   ]
  },
  {
   "cell_type": "code",
   "execution_count": 19,
   "id": "654aa374-2055-4a25-b62c-12ddb2013fd5",
   "metadata": {},
   "outputs": [
    {
     "data": {
      "text/plain": [
       "0.0625"
      ]
     },
     "execution_count": 19,
     "metadata": {},
     "output_type": "execute_result"
    }
   ],
   "source": [
    "# 1/16e\n",
    "2**-4"
   ]
  },
  {
   "cell_type": "code",
   "execution_count": 20,
   "id": "e549c4bc-4e32-45b8-98fe-bac3c04f7fd5",
   "metadata": {},
   "outputs": [
    {
     "data": {
      "text/plain": [
       "22.25"
      ]
     },
     "execution_count": 20,
     "metadata": {},
     "output_type": "execute_result"
    }
   ],
   "source": [
    "# weird computation: float, int -> float\n",
    "temperature + nb_persons"
   ]
  },
  {
   "cell_type": "markdown",
   "id": "83f82998-02e0-4f52-b7c1-e963451bd9b4",
   "metadata": {},
   "source": [
    "#### `math` module\n",
    "This module from the standard library provides mathematical functions and constants"
   ]
  },
  {
   "cell_type": "code",
   "execution_count": 21,
   "id": "7e6eb688-bd7e-4e0d-98b3-2bfa95eabb15",
   "metadata": {},
   "outputs": [
    {
     "data": {
      "text/plain": [
       "5"
      ]
     },
     "execution_count": 21,
     "metadata": {},
     "output_type": "execute_result"
    }
   ],
   "source": [
    "math.ceil(math.sqrt(temperature))"
   ]
  },
  {
   "cell_type": "code",
   "execution_count": 22,
   "id": "bcc37636-8bfd-43bd-a3d6-4bb187a5b545",
   "metadata": {},
   "outputs": [
    {
     "data": {
      "text/plain": [
       "<function math.ceil(x, /)>"
      ]
     },
     "execution_count": 22,
     "metadata": {},
     "output_type": "execute_result"
    }
   ],
   "source": [
    "math.ceil"
   ]
  },
  {
   "cell_type": "code",
   "execution_count": 23,
   "id": "1eac3f88-4289-40f8-8d7a-7dd379d6be0d",
   "metadata": {},
   "outputs": [
    {
     "data": {
      "text/plain": [
       "\u001b[31mSignature:\u001b[39m math.ceil(x, /)\n",
       "\u001b[31mDocstring:\u001b[39m\n",
       "Return the ceiling of x as an Integral.\n",
       "\n",
       "This is the smallest integer >= x.\n",
       "\u001b[31mType:\u001b[39m      builtin_function_or_method"
      ]
     },
     "metadata": {},
     "output_type": "display_data"
    }
   ],
   "source": [
    "math.ceil?"
   ]
  },
  {
   "cell_type": "code",
   "execution_count": 24,
   "id": "3c0e490b-ad7d-4f23-9113-1c16934c77b2",
   "metadata": {},
   "outputs": [
    {
     "data": {
      "text/plain": [
       "3.141592653589793"
      ]
     },
     "execution_count": 24,
     "metadata": {},
     "output_type": "execute_result"
    }
   ],
   "source": [
    "math.pi"
   ]
  },
  {
   "cell_type": "markdown",
   "id": "74415c1a-58bf-4aef-987c-0ff6267cd18e",
   "metadata": {},
   "source": [
    "#### Float precision"
   ]
  },
  {
   "cell_type": "code",
   "execution_count": 25,
   "id": "ce87e209-dfbd-4c73-9786-b8d8a3f04d62",
   "metadata": {},
   "outputs": [
    {
     "data": {
      "text/plain": [
       "0.1"
      ]
     },
     "execution_count": 25,
     "metadata": {},
     "output_type": "execute_result"
    }
   ],
   "source": [
    "# base 2: 0.000110011001100110011001100110011...\n",
    "price = 0.1\n",
    "price"
   ]
  },
  {
   "cell_type": "code",
   "execution_count": 26,
   "id": "a8ef4dda-7b6c-47ea-822c-3af30bfb6193",
   "metadata": {},
   "outputs": [
    {
     "data": {
      "text/plain": [
       "0.2"
      ]
     },
     "execution_count": 26,
     "metadata": {},
     "output_type": "execute_result"
    }
   ],
   "source": [
    "2*price"
   ]
  },
  {
   "cell_type": "code",
   "execution_count": 27,
   "id": "50640e8a-a205-4821-aaaf-3d3e8aa1d983",
   "metadata": {},
   "outputs": [
    {
     "data": {
      "text/plain": [
       "0.30000000000000004"
      ]
     },
     "execution_count": 27,
     "metadata": {},
     "output_type": "execute_result"
    }
   ],
   "source": [
    "3*price"
   ]
  },
  {
   "cell_type": "markdown",
   "id": "c4c8d927-08e6-4b13-9cea-26111d08ad77",
   "metadata": {},
   "source": [
    "#### Special floats"
   ]
  },
  {
   "cell_type": "code",
   "execution_count": 28,
   "id": "eb76ddaf-9f32-4818-84a0-c1bfce6e3e9b",
   "metadata": {},
   "outputs": [
    {
     "data": {
      "text/plain": [
       "1e+308"
      ]
     },
     "execution_count": 28,
     "metadata": {},
     "output_type": "execute_result"
    }
   ],
   "source": [
    "# very big number as a float\n",
    "big_number = 1E308\n",
    "big_number"
   ]
  },
  {
   "cell_type": "code",
   "execution_count": 29,
   "id": "e4bcb95b-7cf5-49d3-90b6-eac417ecee54",
   "metadata": {},
   "outputs": [
    {
     "data": {
      "text/plain": [
       "inf"
      ]
     },
     "execution_count": 29,
     "metadata": {},
     "output_type": "execute_result"
    }
   ],
   "source": [
    "x = big_number * 2\n",
    "x"
   ]
  },
  {
   "cell_type": "code",
   "execution_count": 30,
   "id": "1e2fc56d-bd84-439f-88ae-e7c47e13077e",
   "metadata": {},
   "outputs": [
    {
     "data": {
      "text/plain": [
       "1e-308"
      ]
     },
     "execution_count": 30,
     "metadata": {},
     "output_type": "execute_result"
    }
   ],
   "source": [
    "1E-308"
   ]
  },
  {
   "cell_type": "code",
   "execution_count": 31,
   "id": "7c75127a-18b6-4c01-bf35-6e351fe9cf63",
   "metadata": {},
   "outputs": [
    {
     "data": {
      "text/plain": [
       "nan"
      ]
     },
     "execution_count": 31,
     "metadata": {},
     "output_type": "execute_result"
    }
   ],
   "source": [
    "x / x"
   ]
  },
  {
   "cell_type": "code",
   "execution_count": 32,
   "id": "7db37f8b-ff83-4671-89bf-8ba8506cf78d",
   "metadata": {},
   "outputs": [
    {
     "data": {
      "text/plain": [
       "inf"
      ]
     },
     "execution_count": 32,
     "metadata": {},
     "output_type": "execute_result"
    }
   ],
   "source": [
    "float('inf')"
   ]
  },
  {
   "cell_type": "code",
   "execution_count": 33,
   "id": "b98d5d27-0277-4f00-a4d2-50483b3cb4e8",
   "metadata": {},
   "outputs": [
    {
     "data": {
      "text/plain": [
       "inf"
      ]
     },
     "execution_count": 33,
     "metadata": {},
     "output_type": "execute_result"
    }
   ],
   "source": [
    "math.inf"
   ]
  },
  {
   "cell_type": "code",
   "execution_count": 34,
   "id": "7d95fe4d-57bf-47cf-8930-5f66ff9a8c55",
   "metadata": {},
   "outputs": [
    {
     "data": {
      "text/plain": [
       "nan"
      ]
     },
     "execution_count": 34,
     "metadata": {},
     "output_type": "execute_result"
    }
   ],
   "source": [
    "math.nan"
   ]
  },
  {
   "cell_type": "code",
   "execution_count": 35,
   "id": "d650af9c-cb27-450e-b0d9-c2f05d2959e0",
   "metadata": {},
   "outputs": [
    {
     "data": {
      "text/plain": [
       "nan"
      ]
     },
     "execution_count": 35,
     "metadata": {},
     "output_type": "execute_result"
    }
   ],
   "source": [
    "0 * math.nan"
   ]
  },
  {
   "cell_type": "code",
   "execution_count": 36,
   "id": "9a4e9b09-dfef-477e-a38a-0b7dd89a3322",
   "metadata": {},
   "outputs": [
    {
     "data": {
      "text/plain": [
       "18446744073709551615"
      ]
     },
     "execution_count": 36,
     "metadata": {},
     "output_type": "execute_result"
    }
   ],
   "source": [
    "2**64 - 1"
   ]
  },
  {
   "cell_type": "code",
   "execution_count": 37,
   "id": "6872b795-c65c-45c2-95f9-461f32c56896",
   "metadata": {},
   "outputs": [
    {
     "data": {
      "text/plain": [
       "123000000000000000000000000000000000000000000000000000000000000000000000000000000000000000000000000000000000000000000000000000000000000000000000000000000000000000000000000000000000000000000000000000000000000000000000000000000000000000000000000000000000000000000000000000000000000000000000000000000000000000000000000000000000000000000000000000000000000004"
      ]
     },
     "execution_count": 37,
     "metadata": {},
     "output_type": "execute_result"
    }
   ],
   "source": [
    "big_counter = 123000000000000000000000000000000000000000000000000000000000000000000000000000000000000000000000000000000000000000000000000000000000000000000000000000000000000000000000000000000000000000000000000000000000000000000000000000000000000000000000000000000000000000000000000000000000000000000000000000000000000000000000000000000000000000000000000000000000000004\n",
    "big_counter"
   ]
  },
  {
   "cell_type": "code",
   "execution_count": 38,
   "id": "7718be60-fafa-42f7-a33e-bb12b4ed15ba",
   "metadata": {},
   "outputs": [
    {
     "data": {
      "text/plain": [
       "123000000000000000000000000000000000000000000000000000000000000000000000000000000000000000000000000000000000000000000000000000000000000000000000000000000000000000000000000000000000000000000000000000000000000000000000000000000000000000000000000000000000000000000000000000000000000000000000000000000000000000000000000000000000000000000000000000000000000005"
      ]
     },
     "execution_count": 38,
     "metadata": {},
     "output_type": "execute_result"
    }
   ],
   "source": [
    "big_counter + 1"
   ]
  },
  {
   "cell_type": "markdown",
   "id": "392b06ed-88e3-4d25-9fc7-66c9d6d8b445",
   "metadata": {},
   "source": [
    "#### Numpy alternative\n",
    "- integers: int8, int16, int32, int64, ..., uint8, uint16, ...\n",
    "- floats: float32, float64, ..."
   ]
  },
  {
   "cell_type": "code",
   "execution_count": 39,
   "id": "59d10ab0-4913-44a0-b31f-94e7207d7a6e",
   "metadata": {},
   "outputs": [
    {
     "data": {
      "text/plain": [
       "array([1, 1, 1, 1, 1, 1, 1, 1], dtype=uint8)"
      ]
     },
     "execution_count": 39,
     "metadata": {},
     "output_type": "execute_result"
    }
   ],
   "source": [
    "data = np.ones(8, dtype='uint8')\n",
    "data"
   ]
  },
  {
   "cell_type": "code",
   "execution_count": 40,
   "id": "bb25fbae-487d-4e86-9108-7974cff0b540",
   "metadata": {},
   "outputs": [
    {
     "data": {
      "text/plain": [
       "int"
      ]
     },
     "execution_count": 40,
     "metadata": {},
     "output_type": "execute_result"
    }
   ],
   "source": [
    "value = 255\n",
    "type(value)"
   ]
  },
  {
   "cell_type": "code",
   "execution_count": 41,
   "id": "9631486d-2dd6-4ffd-8946-c095a59bca77",
   "metadata": {},
   "outputs": [
    {
     "data": {
      "text/plain": [
       "array([255,   1,   1,   1,   1,   1,   1,   1], dtype=uint8)"
      ]
     },
     "execution_count": 41,
     "metadata": {},
     "output_type": "execute_result"
    }
   ],
   "source": [
    "data[0] = value\n",
    "data"
   ]
  },
  {
   "cell_type": "code",
   "execution_count": 42,
   "id": "8cf6d452-efe7-46b4-ad47-e38aaeec230c",
   "metadata": {},
   "outputs": [
    {
     "name": "stdout",
     "output_type": "stream",
     "text": [
      "[255   1   1   1   1   1   1   1]\n"
     ]
    }
   ],
   "source": [
    "print(data)"
   ]
  },
  {
   "cell_type": "code",
   "execution_count": 43,
   "id": "ab78e313-fcc8-458a-9731-e0f1185a2b7f",
   "metadata": {},
   "outputs": [
    {
     "data": {
      "text/plain": [
       "dtype('uint8')"
      ]
     },
     "execution_count": 43,
     "metadata": {},
     "output_type": "execute_result"
    }
   ],
   "source": [
    "data.dtype"
   ]
  },
  {
   "cell_type": "markdown",
   "id": "147f5059-018e-45fd-9faa-d3147adb88d3",
   "metadata": {},
   "source": [
    "### Text\n",
    "type str"
   ]
  },
  {
   "cell_type": "code",
   "execution_count": 44,
   "id": "384673e4-4d68-4dd7-8979-86ac6496ce42",
   "metadata": {},
   "outputs": [],
   "source": [
    "city1 = 'Saint-Orens-de-Gameville'\n",
    "city2 = \"Revel\"\n",
    "city3 = 'Roquettes'\n",
    "city4 = \"Pau\""
   ]
  },
  {
   "cell_type": "code",
   "execution_count": 45,
   "id": "5abc0e94-305e-4393-90aa-608a9967a1f1",
   "metadata": {},
   "outputs": [
    {
     "data": {
      "text/plain": [
       "\"Aujourd'hui\""
      ]
     },
     "execution_count": 45,
     "metadata": {},
     "output_type": "execute_result"
    }
   ],
   "source": [
    "\"Aujourd'hui\""
   ]
  },
  {
   "cell_type": "code",
   "execution_count": 46,
   "id": "f43b504c-2f97-4cfc-8714-46fcc136b0a4",
   "metadata": {},
   "outputs": [
    {
     "data": {
      "text/plain": [
       "'Aujourd\\'hui, je dis: \"il fait beau !\"'"
      ]
     },
     "execution_count": 46,
     "metadata": {},
     "output_type": "execute_result"
    }
   ],
   "source": [
    "text = 'Aujourd\\'hui, je dis: \"il fait beau !\"'\n",
    "text"
   ]
  },
  {
   "cell_type": "code",
   "execution_count": 47,
   "id": "12737d1c-d785-4c0c-b339-a83426acda79",
   "metadata": {},
   "outputs": [
    {
     "name": "stdout",
     "output_type": "stream",
     "text": [
      "Aujourd'hui, je dis: \"il fait beau !\"\n"
     ]
    }
   ],
   "source": [
    "print(text)"
   ]
  },
  {
   "cell_type": "code",
   "execution_count": 48,
   "id": "2ce336fc-192d-4123-ac6c-2994bd80c72d",
   "metadata": {},
   "outputs": [
    {
     "data": {
      "text/plain": [
       "str"
      ]
     },
     "execution_count": 48,
     "metadata": {},
     "output_type": "execute_result"
    }
   ],
   "source": [
    "type(city1)"
   ]
  },
  {
   "cell_type": "code",
   "execution_count": 49,
   "id": "ecd093ff-3f58-41d6-8f42-ca2bd5a9e2af",
   "metadata": {},
   "outputs": [
    {
     "data": {
      "text/plain": [
       "'Saint-Orens-de-Gameville, Revel'"
      ]
     },
     "execution_count": 49,
     "metadata": {},
     "output_type": "execute_result"
    }
   ],
   "source": [
    "# concatenate: +\n",
    "city1 + ', ' + city2"
   ]
  },
  {
   "cell_type": "code",
   "execution_count": 50,
   "id": "38ac23be-f821-45a7-8196-a70e9eccacfa",
   "metadata": {},
   "outputs": [
    {
     "data": {
      "text/plain": [
       "'S'"
      ]
     },
     "execution_count": 50,
     "metadata": {},
     "output_type": "execute_result"
    }
   ],
   "source": [
    "city1[0]"
   ]
  },
  {
   "cell_type": "code",
   "execution_count": 51,
   "id": "9d3b54e7-98ab-4527-9dd4-eb637781983e",
   "metadata": {},
   "outputs": [
    {
     "data": {
      "text/plain": [
       "24"
      ]
     },
     "execution_count": 51,
     "metadata": {},
     "output_type": "execute_result"
    }
   ],
   "source": [
    "n = len(city1)\n",
    "n"
   ]
  },
  {
   "cell_type": "code",
   "execution_count": 52,
   "id": "90c9f03d-d38d-4f60-9063-dac06ebb362a",
   "metadata": {},
   "outputs": [
    {
     "data": {
      "text/plain": [
       "'e'"
      ]
     },
     "execution_count": 52,
     "metadata": {},
     "output_type": "execute_result"
    }
   ],
   "source": [
    "city1[n-1]"
   ]
  },
  {
   "cell_type": "code",
   "execution_count": 53,
   "id": "671105f1-c44c-49f0-873c-0040d6fda78a",
   "metadata": {},
   "outputs": [],
   "source": [
    "# city1[n]\n",
    "# => IndexError: string index out of range"
   ]
  },
  {
   "cell_type": "code",
   "execution_count": 54,
   "id": "a10c180f-ccba-4d6f-97dc-488ea896509f",
   "metadata": {},
   "outputs": [
    {
     "data": {
      "text/plain": [
       "'e'"
      ]
     },
     "execution_count": 54,
     "metadata": {},
     "output_type": "execute_result"
    }
   ],
   "source": [
    "# last character\n",
    "city1[-1]"
   ]
  },
  {
   "cell_type": "code",
   "execution_count": 55,
   "id": "c6db8f53-8d53-4c50-bfdb-4eb3b4ec21b7",
   "metadata": {},
   "outputs": [
    {
     "data": {
      "text/plain": [
       "'S'"
      ]
     },
     "execution_count": 55,
     "metadata": {},
     "output_type": "execute_result"
    }
   ],
   "source": [
    "city1[-n]"
   ]
  },
  {
   "cell_type": "code",
   "execution_count": 59,
   "id": "14a93c5e-7f77-4618-8179-fca37552c179",
   "metadata": {},
   "outputs": [],
   "source": [
    "# TypeError: 'str' object does not support item assignment\n",
    "# city1[0] = 'T'"
   ]
  },
  {
   "cell_type": "markdown",
   "id": "eb966d67-2c57-4ad5-9204-f4c63a95143b",
   "metadata": {},
   "source": [
    "#### Slices"
   ]
  },
  {
   "cell_type": "code",
   "execution_count": 56,
   "id": "00c0fe87-998d-4645-a9fa-60e5e95b4652",
   "metadata": {},
   "outputs": [
    {
     "name": "stdout",
     "output_type": "stream",
     "text": [
      "Saint-\n",
      "Orens\n",
      "-de-Gameville\n"
     ]
    }
   ],
   "source": [
    "print(city1[:6])\n",
    "print(city1[6:11])\n",
    "print(city1[11:])"
   ]
  },
  {
   "cell_type": "code",
   "execution_count": 57,
   "id": "ff669d87-a2cb-4025-980c-9195d3c5ad86",
   "metadata": {},
   "outputs": [
    {
     "name": "stdout",
     "output_type": "stream",
     "text": [
      "n-rn-eGmv\n",
      "SitOesd-aeil\n",
      "an-rn-eGmvle\n",
      "ellivemaG-ed-snerO-tniaS\n"
     ]
    }
   ],
   "source": [
    "# slice with step\n",
    "print(city1[3:20:2])\n",
    "print(city1[::2]) # even indexes\n",
    "print(city1[1::2]) # odd indexes\n",
    "print(city1[::-1])"
   ]
  },
  {
   "cell_type": "code",
   "execution_count": 58,
   "id": "6479d58b-38a8-4b48-bebd-345dc3256816",
   "metadata": {},
   "outputs": [
    {
     "data": {
      "text/plain": [
       "array([  1,   1,   1,   1,   1,   1,   1, 255], dtype=uint8)"
      ]
     },
     "execution_count": 58,
     "metadata": {},
     "output_type": "execute_result"
    }
   ],
   "source": [
    "# slices are working with numpy arrays too\n",
    "data[::-1]"
   ]
  },
  {
   "cell_type": "code",
   "execution_count": 60,
   "id": "99155e96-ee2a-4b81-adfa-525beed8b547",
   "metadata": {},
   "outputs": [
    {
     "data": {
      "text/plain": [
       "'Taint-Orens-de-Gameville'"
      ]
     },
     "execution_count": 60,
     "metadata": {},
     "output_type": "execute_result"
    }
   ],
   "source": [
    "# Solution: create a new string\n",
    "'T' + city1[1:]"
   ]
  },
  {
   "cell_type": "code",
   "execution_count": 61,
   "id": "9d77a508-d235-4a90-8157-cd8124ffcf33",
   "metadata": {},
   "outputs": [
    {
     "data": {
      "text/plain": [
       "'Saint-Orens-de-Gameville'"
      ]
     },
     "execution_count": 61,
     "metadata": {},
     "output_type": "execute_result"
    }
   ],
   "source": [
    "# shared reference\n",
    "city1bis = city1\n",
    "city1bis"
   ]
  },
  {
   "cell_type": "code",
   "execution_count": 62,
   "id": "7119f52c-c9e4-4050-b5fd-d0d318bcbbde",
   "metadata": {},
   "outputs": [
    {
     "data": {
      "text/plain": [
       "'Taint-Orens-de-Gameville'"
      ]
     },
     "execution_count": 62,
     "metadata": {},
     "output_type": "execute_result"
    }
   ],
   "source": [
    "# city1 references the new string\n",
    "city1 = 'T' + city1[1:]\n",
    "city1"
   ]
  },
  {
   "cell_type": "code",
   "execution_count": 63,
   "id": "9c625821-fa2b-4e16-a4df-8dbd5939a428",
   "metadata": {},
   "outputs": [
    {
     "name": "stdout",
     "output_type": "stream",
     "text": [
      "Taint-Orens-de-Gameville\n",
      "Saint-Orens-de-Gameville\n"
     ]
    }
   ],
   "source": [
    "print(city1)\n",
    "print(city1bis)"
   ]
  },
  {
   "cell_type": "markdown",
   "id": "10157220-3086-43b9-920c-1c09f19fa7e0",
   "metadata": {},
   "source": [
    "#### Methods of type str\n",
    "Try these ones:\n",
    "- split\n",
    "- lower, upper\n",
    "- startswith, endswith, contains?\n",
    "- find, index"
   ]
  },
  {
   "cell_type": "code",
   "execution_count": 64,
   "id": "367209cf-2cc8-40e6-96ec-5c79d0d9ae45",
   "metadata": {},
   "outputs": [
    {
     "data": {
      "text/plain": [
       "['Saint', 'Orens', 'de', 'Gameville']"
      ]
     },
     "execution_count": 64,
     "metadata": {},
     "output_type": "execute_result"
    }
   ],
   "source": [
    "words = city1bis.split('-')\n",
    "words"
   ]
  },
  {
   "cell_type": "code",
   "execution_count": 65,
   "id": "cf21f574-63ff-427e-93e8-0df2702f2e5f",
   "metadata": {},
   "outputs": [
    {
     "data": {
      "text/plain": [
       "list"
      ]
     },
     "execution_count": 65,
     "metadata": {},
     "output_type": "execute_result"
    }
   ],
   "source": [
    "type(words)"
   ]
  },
  {
   "cell_type": "code",
   "execution_count": 66,
   "id": "35da11c5-3a3f-4829-a77f-63cbef591cab",
   "metadata": {},
   "outputs": [
    {
     "data": {
      "text/plain": [
       "12"
      ]
     },
     "execution_count": 66,
     "metadata": {},
     "output_type": "execute_result"
    }
   ],
   "source": [
    "city1.index('de')"
   ]
  },
  {
   "cell_type": "code",
   "execution_count": 67,
   "id": "83ae99aa-7a94-4722-a806-aeeb7d853369",
   "metadata": {},
   "outputs": [
    {
     "data": {
      "text/plain": [
       "'SAINT-ORENS-DE-GAMEVILLE'"
      ]
     },
     "execution_count": 67,
     "metadata": {},
     "output_type": "execute_result"
    }
   ],
   "source": [
    "city1bis.upper()"
   ]
  },
  {
   "cell_type": "code",
   "execution_count": 68,
   "id": "b7ef3003-bb18-4609-87ee-c6b4c52342c3",
   "metadata": {},
   "outputs": [
    {
     "data": {
      "text/plain": [
       "True"
      ]
     },
     "execution_count": 68,
     "metadata": {},
     "output_type": "execute_result"
    }
   ],
   "source": [
    "# NB: contains is not a str method => operator 'in'\n",
    "'de' in city1 "
   ]
  },
  {
   "cell_type": "code",
   "execution_count": 69,
   "id": "4f653b9c-8f73-4b69-85e5-462b40ad816c",
   "metadata": {},
   "outputs": [
    {
     "data": {
      "text/plain": [
       "False"
      ]
     },
     "execution_count": 69,
     "metadata": {},
     "output_type": "execute_result"
    }
   ],
   "source": [
    "city1.endswith('z')"
   ]
  },
  {
   "cell_type": "markdown",
   "id": "5335eeb5-d895-4a47-a132-a717ca299f7b",
   "metadata": {},
   "source": [
    "### Boolean\n",
    "type bool"
   ]
  },
  {
   "cell_type": "code",
   "execution_count": 70,
   "id": "9e0e23dc-d5b7-47b6-9213-e53dd91739f4",
   "metadata": {},
   "outputs": [
    {
     "data": {
      "text/plain": [
       "bool"
      ]
     },
     "execution_count": 70,
     "metadata": {},
     "output_type": "execute_result"
    }
   ],
   "source": [
    "type(True)"
   ]
  },
  {
   "cell_type": "markdown",
   "id": "cd073a3c-2712-4394-a20e-fb3665824176",
   "metadata": {},
   "source": [
    "### Summary\n",
    "Basic types list:\n",
    "\n",
    "-\n",
    "-\n",
    "-\n"
   ]
  },
  {
   "cell_type": "markdown",
   "id": "5af0ac15-1a64-4377-ae6f-4f282334cd4f",
   "metadata": {},
   "source": [
    "## Containers\n",
    "- list : []\n",
    "- tuple : () or nothing\n",
    "- dict : {}\n",
    "- set : {}"
   ]
  },
  {
   "cell_type": "markdown",
   "id": "f7b7199c-dca3-47bc-b436-b4b390ec7bb6",
   "metadata": {},
   "source": [
    "### Lists\n",
    "- type `list`\n",
    "- build with `[]` or function `list`"
   ]
  },
  {
   "cell_type": "code",
   "execution_count": 1,
   "id": "05a347c6-7ba1-4f53-bdb1-e5563b791275",
   "metadata": {},
   "outputs": [
    {
     "ename": "NameError",
     "evalue": "name 'city1bis' is not defined",
     "output_type": "error",
     "traceback": [
      "\u001b[31m---------------------------------------------------------------------------\u001b[39m",
      "\u001b[31mNameError\u001b[39m                                 Traceback (most recent call last)",
      "\u001b[36mCell\u001b[39m\u001b[36m \u001b[39m\u001b[32mIn[1]\u001b[39m\u001b[32m, line 1\u001b[39m\n\u001b[32m----> \u001b[39m\u001b[32m1\u001b[39m cities = [\u001b[43mcity1bis\u001b[49m, city2, city3, city4]\n\u001b[32m      2\u001b[39m cities\n",
      "\u001b[31mNameError\u001b[39m: name 'city1bis' is not defined"
     ]
    }
   ],
   "source": [
    "cities = [city1bis, city2, city3, city4]\n",
    "cities"
   ]
  },
  {
   "cell_type": "code",
   "execution_count": 72,
   "id": "dd910f28-5ecf-4bd4-9107-752ae12390b6",
   "metadata": {},
   "outputs": [
    {
     "data": {
      "text/plain": [
       "list"
      ]
     },
     "execution_count": 72,
     "metadata": {},
     "output_type": "execute_result"
    }
   ],
   "source": [
    "type(cities)"
   ]
  },
  {
   "cell_type": "markdown",
   "id": "1a4a6ff1-2d68-4cc5-ac61-d384e3c4fdc6",
   "metadata": {},
   "source": [
    "#### Foreach loop"
   ]
  },
  {
   "cell_type": "code",
   "execution_count": 73,
   "id": "f0b4dda3-cc36-4233-ae8f-1e523a5f5442",
   "metadata": {},
   "outputs": [
    {
     "name": "stdout",
     "output_type": "stream",
     "text": [
      "Saint-Orens-de-Gameville\n",
      "Revel\n",
      "Roquettes\n",
      "Pau\n"
     ]
    }
   ],
   "source": [
    "for city in cities:\n",
    "    print(city)"
   ]
  },
  {
   "cell_type": "code",
   "execution_count": 74,
   "id": "24d37561-a5de-400e-bc80-e1278cefa86c",
   "metadata": {},
   "outputs": [
    {
     "name": "stdout",
     "output_type": "stream",
     "text": [
      "City number: 4\n",
      "\n",
      "Saint-Orens-de-Gameville\n",
      " - upper: SAINT-ORENS-DE-GAMEVILLE\n",
      " - starts with R: False\n",
      "Revel\n",
      " - upper: REVEL\n",
      " - starts with R: True\n",
      "Roquettes\n",
      " - upper: ROQUETTES\n",
      " - starts with R: True\n",
      "Pau\n",
      " - upper: PAU\n",
      " - starts with R: False\n"
     ]
    }
   ],
   "source": [
    "print('City number:', len(cities))\n",
    "print()\n",
    "for city in cities:\n",
    "    print(city)\n",
    "    print(' - upper:', city.upper())\n",
    "    print(' - starts with R:', city.startswith('R'))"
   ]
  },
  {
   "cell_type": "code",
   "execution_count": 75,
   "id": "66493a42-cb60-4c2b-bc85-0d38c3824d70",
   "metadata": {},
   "outputs": [
    {
     "name": "stdout",
     "output_type": "stream",
     "text": [
      "Saint-Orens-de-Gameville Revel Roquettes Pau\n"
     ]
    }
   ],
   "source": [
    "print(city1bis, city2, city3, city4)"
   ]
  },
  {
   "cell_type": "code",
   "execution_count": 76,
   "id": "9f156512-9346-4b3e-885d-45dccb4216a1",
   "metadata": {},
   "outputs": [
    {
     "name": "stdout",
     "output_type": "stream",
     "text": [
      "Saint-Orens-de-Gameville, Revel, Roquettes, Pau\n"
     ]
    }
   ],
   "source": [
    "print(city1bis, city2, city3, city4, sep=', ')"
   ]
  },
  {
   "cell_type": "markdown",
   "id": "45bef93d-3b0a-4b73-aef1-876d3beadf1e",
   "metadata": {},
   "source": [
    "### Iterable\n",
    "An iterable object defines an implicit iteration on its elements\n",
    "- All python containers are iterable\n",
    "- Strings are iterable\n",
    "- a Range object"
   ]
  },
  {
   "cell_type": "code",
   "execution_count": 77,
   "id": "19750555-983e-40ef-a0b6-6269d5adbfc9",
   "metadata": {},
   "outputs": [
    {
     "name": "stdout",
     "output_type": "stream",
     "text": [
      "S   a   i   n   t   -   O   r   e   n   s   -   d   e   -   G   a   m   e   v   i   l   l   e   "
     ]
    }
   ],
   "source": [
    "for letter in city1bis:\n",
    "    print(letter, end='   ')"
   ]
  },
  {
   "cell_type": "code",
   "execution_count": 78,
   "id": "4273c2ba-52ed-4db0-bb1a-16391b26a220",
   "metadata": {},
   "outputs": [
    {
     "name": "stdout",
     "output_type": "stream",
     "text": [
      "1\n",
      "2\n",
      "3\n",
      "4\n",
      "5\n",
      "6\n",
      "7\n",
      "8\n",
      "9\n",
      "10\n"
     ]
    }
   ],
   "source": [
    "for i in range(1, 11):\n",
    "    print(i)"
   ]
  },
  {
   "cell_type": "code",
   "execution_count": 79,
   "id": "0a0e4567-1627-4acf-92f2-880b16d478a9",
   "metadata": {},
   "outputs": [
    {
     "name": "stdout",
     "output_type": "stream",
     "text": [
      "1\n",
      "2\n",
      "3\n",
      "4\n",
      "5\n",
      "6\n",
      "7\n",
      "8\n",
      "9\n",
      "10\n"
     ]
    }
   ],
   "source": [
    "for i in range(10):\n",
    "    print(i + 1)"
   ]
  },
  {
   "cell_type": "code",
   "execution_count": 80,
   "id": "45d3a6e9-4993-482b-9920-9fd9127f9b3f",
   "metadata": {},
   "outputs": [
    {
     "name": "stdout",
     "output_type": "stream",
     "text": [
      "10\n",
      "9\n",
      "8\n",
      "7\n",
      "6\n",
      "5\n",
      "4\n",
      "3\n",
      "2\n",
      "1\n",
      "0\n"
     ]
    }
   ],
   "source": [
    "# 10 downto 0\n",
    "for i in range(10, -1, -1):\n",
    "    print(i)"
   ]
  },
  {
   "cell_type": "code",
   "execution_count": 81,
   "id": "2f3bb6ce-efed-422a-ba2e-7d02942dfe7d",
   "metadata": {},
   "outputs": [
    {
     "name": "stdout",
     "output_type": "stream",
     "text": [
      "10\n",
      "9\n",
      "8\n",
      "7\n",
      "6\n",
      "5\n",
      "4\n",
      "3\n",
      "2\n",
      "1\n",
      "Boom\n"
     ]
    }
   ],
   "source": [
    "for i in range(10, 0, -1):\n",
    "    print(i)\n",
    "print('Boom')"
   ]
  },
  {
   "cell_type": "markdown",
   "id": "b36a68ac-23bf-4b1c-8a16-2776978b526a",
   "metadata": {},
   "source": [
    "### Builtin functions on Iterables"
   ]
  },
  {
   "cell_type": "code",
   "execution_count": 82,
   "id": "85ebe6d8-9bc7-4975-a5dd-87632bf18d7d",
   "metadata": {},
   "outputs": [
    {
     "data": {
      "text/plain": [
       "['S',\n",
       " 'a',\n",
       " 'i',\n",
       " 'n',\n",
       " 't',\n",
       " '-',\n",
       " 'O',\n",
       " 'r',\n",
       " 'e',\n",
       " 'n',\n",
       " 's',\n",
       " '-',\n",
       " 'd',\n",
       " 'e',\n",
       " '-',\n",
       " 'G',\n",
       " 'a',\n",
       " 'm',\n",
       " 'e',\n",
       " 'v',\n",
       " 'i',\n",
       " 'l',\n",
       " 'l',\n",
       " 'e']"
      ]
     },
     "execution_count": 82,
     "metadata": {},
     "output_type": "execute_result"
    }
   ],
   "source": [
    "list(city1bis)"
   ]
  },
  {
   "cell_type": "code",
   "execution_count": 83,
   "id": "3a3b4ebe-a8c5-40bb-8b50-4c00e302eac8",
   "metadata": {},
   "outputs": [
    {
     "data": {
      "text/plain": [
       "[0, 1, 2, 3, 4, 5, 6, 7, 8, 9]"
      ]
     },
     "execution_count": 83,
     "metadata": {},
     "output_type": "execute_result"
    }
   ],
   "source": [
    "list(range(10))"
   ]
  },
  {
   "cell_type": "code",
   "execution_count": 84,
   "id": "d48bf361-d8d5-4e11-97fe-f3483beebe95",
   "metadata": {},
   "outputs": [
    {
     "data": {
      "text/plain": [
       "['Saint-Orens-de-Gameville', 'Revel', 'Roquettes', 'Pau']"
      ]
     },
     "execution_count": 84,
     "metadata": {},
     "output_type": "execute_result"
    }
   ],
   "source": [
    "list(cities)"
   ]
  },
  {
   "cell_type": "code",
   "execution_count": 85,
   "id": "d46b3128-1c3a-49a0-98ae-7284949ab501",
   "metadata": {},
   "outputs": [
    {
     "data": {
      "text/plain": [
       "[1, 2, 3]"
      ]
     },
     "execution_count": 85,
     "metadata": {},
     "output_type": "execute_result"
    }
   ],
   "source": [
    "# builtin function list masked by a variable with same name\n",
    "list = [1,2,3]\n",
    "list"
   ]
  },
  {
   "cell_type": "code",
   "execution_count": 86,
   "id": "f6dbf78d-7884-416b-b87d-8c4acf54a74b",
   "metadata": {},
   "outputs": [],
   "source": [
    "# delete variable\n",
    "del list"
   ]
  },
  {
   "cell_type": "code",
   "execution_count": 87,
   "id": "69e03e1e-f05f-4c3c-9242-8835e92dbaeb",
   "metadata": {},
   "outputs": [
    {
     "data": {
      "text/plain": [
       "[0, 1, 2, 3, 4]"
      ]
     },
     "execution_count": 87,
     "metadata": {},
     "output_type": "execute_result"
    }
   ],
   "source": [
    "# back to the true 'list'\n",
    "list(range(5))"
   ]
  },
  {
   "cell_type": "code",
   "execution_count": 88,
   "id": "8648bebc-ed1d-457c-849a-ec26cc46c94c",
   "metadata": {},
   "outputs": [
    {
     "name": "stdout",
     "output_type": "stream",
     "text": [
      "0 Saint-Orens-de-Gameville\n",
      "1 Revel\n",
      "2 Roquettes\n",
      "3 Pau\n"
     ]
    }
   ],
   "source": [
    "for i, city in enumerate(cities):\n",
    "    print(i, city)"
   ]
  },
  {
   "cell_type": "code",
   "execution_count": 89,
   "id": "e578b9aa-faa6-4d13-ad51-d5b07e3d2e2b",
   "metadata": {},
   "outputs": [
    {
     "name": "stdout",
     "output_type": "stream",
     "text": [
      "1 Saint-Orens-de-Gameville\n",
      "2 Revel\n",
      "3 Roquettes\n",
      "4 Pau\n"
     ]
    }
   ],
   "source": [
    "for i, city in enumerate(cities, start=1):\n",
    "    print(i, city)"
   ]
  },
  {
   "cell_type": "code",
   "execution_count": 90,
   "id": "32bc003a-aab8-49dc-adf1-82eb313c0340",
   "metadata": {},
   "outputs": [
    {
     "name": "stdout",
     "output_type": "stream",
     "text": [
      "0 S\n",
      "1 a\n",
      "2 i\n",
      "3 n\n",
      "4 t\n",
      "5 -\n",
      "6 O\n",
      "7 r\n",
      "8 e\n",
      "9 n\n",
      "10 s\n",
      "11 -\n",
      "12 d\n",
      "13 e\n",
      "14 -\n",
      "15 G\n",
      "16 a\n",
      "17 m\n",
      "18 e\n",
      "19 v\n",
      "20 i\n",
      "21 l\n",
      "22 l\n",
      "23 e\n"
     ]
    }
   ],
   "source": [
    "for i, letter in enumerate(city1bis):\n",
    "    print(i, letter)"
   ]
  },
  {
   "cell_type": "code",
   "execution_count": 91,
   "id": "a9795742-3072-43dc-b595-8227fb90ac54",
   "metadata": {},
   "outputs": [
    {
     "data": {
      "text/plain": [
       "[(0, 's'), (1, 'e'), (2, 'a'), (3, 's'), (4, 'o'), (5, 'n'), (6, 's')]"
      ]
     },
     "execution_count": 91,
     "metadata": {},
     "output_type": "execute_result"
    }
   ],
   "source": [
    "list(enumerate('seasons'))"
   ]
  },
  {
   "cell_type": "code",
   "execution_count": 92,
   "id": "ecf215cc-fdb2-45ea-ab41-b8966474e68a",
   "metadata": {},
   "outputs": [
    {
     "data": {
      "text/plain": [
       "[(0, 'summer'), (1, 'fall'), (2, 'winter'), (3, 'spring')]"
      ]
     },
     "execution_count": 92,
     "metadata": {},
     "output_type": "execute_result"
    }
   ],
   "source": [
    "seasons = ['summer', 'fall', 'winter', 'spring']\n",
    "list(enumerate(seasons))"
   ]
  },
  {
   "cell_type": "code",
   "execution_count": 93,
   "id": "d79ce1c9-132a-4400-b266-ff0b0ff3ea9d",
   "metadata": {},
   "outputs": [
    {
     "data": {
      "text/plain": [
       "<enumerate at 0x1f5da5671a0>"
      ]
     },
     "execution_count": 93,
     "metadata": {},
     "output_type": "execute_result"
    }
   ],
   "source": [
    "# enumerate is lazy\n",
    "e = enumerate(seasons)\n",
    "e"
   ]
  },
  {
   "cell_type": "code",
   "execution_count": 94,
   "id": "43f13bb9-6f0a-478f-a0f8-2ce83b654dd9",
   "metadata": {},
   "outputs": [
    {
     "data": {
      "text/plain": [
       "[(0, 'summer'), (1, 'fall'), (2, 'winter'), (3, 'spring')]"
      ]
     },
     "execution_count": 94,
     "metadata": {},
     "output_type": "execute_result"
    }
   ],
   "source": [
    "list(e)"
   ]
  },
  {
   "cell_type": "code",
   "execution_count": 95,
   "id": "7bd6aba5-330e-41fc-88c0-275ae86b8999",
   "metadata": {},
   "outputs": [
    {
     "data": {
      "text/plain": [
       "6"
      ]
     },
     "execution_count": 95,
     "metadata": {},
     "output_type": "execute_result"
    }
   ],
   "source": [
    "sum([1,2,3])"
   ]
  },
  {
   "cell_type": "code",
   "execution_count": 96,
   "id": "64540e42-673d-4d80-a3dd-9f7577936bff",
   "metadata": {},
   "outputs": [
    {
     "data": {
      "text/plain": [
       "55"
      ]
     },
     "execution_count": 96,
     "metadata": {},
     "output_type": "execute_result"
    }
   ],
   "source": [
    "# sum numbers from 1 to 10\n",
    "sum(range(1, 11))"
   ]
  },
  {
   "cell_type": "code",
   "execution_count": 97,
   "id": "5cf11d2d-4dcf-4e8e-8f29-1b2088133eae",
   "metadata": {},
   "outputs": [
    {
     "data": {
      "text/plain": [
       "10"
      ]
     },
     "execution_count": 97,
     "metadata": {},
     "output_type": "execute_result"
    }
   ],
   "source": [
    "max(range(1, 11))"
   ]
  },
  {
   "cell_type": "code",
   "execution_count": 98,
   "id": "bb8e16ad-801a-4ce6-bf82-e91af9c0f952",
   "metadata": {},
   "outputs": [
    {
     "data": {
      "text/plain": [
       "1"
      ]
     },
     "execution_count": 98,
     "metadata": {},
     "output_type": "execute_result"
    }
   ],
   "source": [
    "min(range(1, 11))"
   ]
  },
  {
   "cell_type": "code",
   "execution_count": 99,
   "id": "74d79f22-14a1-4041-813e-3a34b684700e",
   "metadata": {},
   "outputs": [
    {
     "data": {
      "text/plain": [
       "'Pau'"
      ]
     },
     "execution_count": 99,
     "metadata": {},
     "output_type": "execute_result"
    }
   ],
   "source": [
    "min(cities)"
   ]
  },
  {
   "cell_type": "code",
   "execution_count": 100,
   "id": "f3fd52fe-5e8a-4861-84a8-6b0f97394191",
   "metadata": {},
   "outputs": [
    {
     "data": {
      "text/plain": [
       "['Saint-Orens-de-Gameville',\n",
       " 'Revel',\n",
       " 'Roquettes',\n",
       " 'Pau',\n",
       " 'Albertville',\n",
       " 'Zalana ']"
      ]
     },
     "execution_count": 100,
     "metadata": {},
     "output_type": "execute_result"
    }
   ],
   "source": [
    "cities.append('Albertville')\n",
    "cities.append('Zalana ')\n",
    "cities"
   ]
  },
  {
   "cell_type": "code",
   "execution_count": 103,
   "id": "ce82f57b-93a5-4fb9-a811-b7daca8beebe",
   "metadata": {},
   "outputs": [
    {
     "data": {
      "text/plain": [
       "('Albertville', 'Zalana ')"
      ]
     },
     "execution_count": 103,
     "metadata": {},
     "output_type": "execute_result"
    }
   ],
   "source": [
    "min(cities), max(cities)"
   ]
  },
  {
   "cell_type": "code",
   "execution_count": 105,
   "id": "77df4a8e-7f10-4732-b976-1dcbba4900b4",
   "metadata": {},
   "outputs": [
    {
     "name": "stdout",
     "output_type": "stream",
     "text": [
      "False\n",
      "True\n"
     ]
    }
   ],
   "source": [
    "print(12 < 5) # integer order\n",
    "print('12' < '5') # str order"
   ]
  },
  {
   "cell_type": "code",
   "execution_count": 107,
   "id": "863630c4-3b43-4405-b4ad-90c72155db2b",
   "metadata": {},
   "outputs": [
    {
     "data": {
      "text/plain": [
       "[1, 2, 3, 4, 5, 6, 7, 8, 9, 10]"
      ]
     },
     "execution_count": 107,
     "metadata": {},
     "output_type": "execute_result"
    }
   ],
   "source": [
    "sorted(range(10, 0, -1))"
   ]
  },
  {
   "cell_type": "code",
   "execution_count": 108,
   "id": "afcc295d-2033-49bf-a156-4fdece6d5d36",
   "metadata": {},
   "outputs": [
    {
     "data": {
      "text/plain": [
       "['Albertville',\n",
       " 'Pau',\n",
       " 'Revel',\n",
       " 'Roquettes',\n",
       " 'Saint-Orens-de-Gameville',\n",
       " 'Zalana ']"
      ]
     },
     "execution_count": 108,
     "metadata": {},
     "output_type": "execute_result"
    }
   ],
   "source": [
    "sorted(cities)"
   ]
  },
  {
   "cell_type": "code",
   "execution_count": 115,
   "id": "2e7e3e44-e126-44a5-a44e-cfaf8d47a6e8",
   "metadata": {},
   "outputs": [],
   "source": [
    "words = [\n",
    "    'été', 'étage', 'étuve',\n",
    "    'abricot', 'Appareil',\n",
    "    'cœur', 'cobra', 'corde',\n",
    "    'Zèbre', 'zoo',\n",
    "    'ça', 'carte', 'caisse'\n",
    "]"
   ]
  },
  {
   "cell_type": "code",
   "execution_count": 116,
   "id": "76d4a9c8-d738-4eb5-bb89-f2dc3e5688ef",
   "metadata": {},
   "outputs": [
    {
     "data": {
      "text/plain": [
       "['Appareil',\n",
       " 'Zèbre',\n",
       " 'abricot',\n",
       " 'caisse',\n",
       " 'carte',\n",
       " 'cobra',\n",
       " 'corde',\n",
       " 'cœur',\n",
       " 'zoo',\n",
       " 'ça',\n",
       " 'étage',\n",
       " 'étuve',\n",
       " 'été']"
      ]
     },
     "execution_count": 116,
     "metadata": {},
     "output_type": "execute_result"
    }
   ],
   "source": [
    "sorted(words)"
   ]
  },
  {
   "cell_type": "code",
   "execution_count": null,
   "id": "b077ea56-72da-4492-82cf-1f8941e78660",
   "metadata": {},
   "outputs": [],
   "source": []
  }
 ],
 "metadata": {
  "kernelspec": {
   "display_name": "Python 3 (ipykernel)",
   "language": "python",
   "name": "python3"
  },
  "language_info": {
   "codemirror_mode": {
    "name": "ipython",
    "version": 3
   },
   "file_extension": ".py",
   "mimetype": "text/x-python",
   "name": "python",
   "nbconvert_exporter": "python",
   "pygments_lexer": "ipython3",
   "version": "3.12.8"
  }
 },
 "nbformat": 4,
 "nbformat_minor": 5
}
