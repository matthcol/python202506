{
 "cells": [
  {
   "cell_type": "markdown",
   "id": "16ce24ae-948f-4f77-b073-5be31dc19a80",
   "metadata": {},
   "source": [
    "# Cities"
   ]
  },
  {
   "cell_type": "code",
   "execution_count": 25,
   "id": "534803c6-54a9-4614-9c85-eb921f96acfd",
   "metadata": {},
   "outputs": [],
   "source": [
    "from city import City, CityWithAirport\n",
    "import math"
   ]
  },
  {
   "cell_type": "code",
   "execution_count": 26,
   "id": "3ee53f7f-3740-41e0-aa4a-801aa9b715f2",
   "metadata": {},
   "outputs": [
    {
     "name": "stdout",
     "output_type": "stream",
     "text": [
      "Tournefeuille (None)\n"
     ]
    }
   ],
   "source": [
    "city = City(\"Tournefeuille\")\n",
    "print(city)"
   ]
  },
  {
   "cell_type": "code",
   "execution_count": 27,
   "id": "c9acc825-e516-453d-bb4a-0f09c2a9ef2e",
   "metadata": {},
   "outputs": [
    {
     "data": {
      "text/plain": [
       "nan"
      ]
     },
     "execution_count": 27,
     "metadata": {},
     "output_type": "execute_result"
    }
   ],
   "source": [
    "city.area"
   ]
  },
  {
   "cell_type": "code",
   "execution_count": 38,
   "id": "908d18f2-341f-4789-8ac3-276ba9892c27",
   "metadata": {},
   "outputs": [],
   "source": [
    "def make_city_list(*names: str, **kwargs) -> list[City]:\n",
    "    print(names) # print tuple\n",
    "    print(*names, sep=\"...\") # print each name separatly\n",
    "    print(kwargs)\n",
    "    return [\n",
    "        City(\n",
    "            name=name,\n",
    "            area=kwargs['area'] if 'area' in kwargs else math.nan\n",
    "        ) \n",
    "        for name in names\n",
    "    ]"
   ]
  },
  {
   "cell_type": "code",
   "execution_count": 62,
   "id": "2c445de0-9356-4034-9566-7428a2d6a15e",
   "metadata": {},
   "outputs": [],
   "source": [
    "def make_city_list2(*names: str, **kwargs) -> list[City]:\n",
    "    cities = []\n",
    "    for name in names:\n",
    "        city = City(name=name)\n",
    "        for ppty, value in kwargs.items():\n",
    "            match ppty:\n",
    "                case 'area':\n",
    "                    city.area = value\n",
    "                # TODO: other properties\n",
    "                case _:\n",
    "                    # TODO: raise exception or log warning\n",
    "                    pass # ignore\n",
    "            # end match\n",
    "        # end for\n",
    "        cities.append(city)\n",
    "    return cities"
   ]
  },
  {
   "cell_type": "code",
   "execution_count": 63,
   "id": "019430a9-1e55-4cb1-844e-417b2c07bdf0",
   "metadata": {},
   "outputs": [
    {
     "name": "stdout",
     "output_type": "stream",
     "text": [
      "()\n",
      "\n",
      "{}\n"
     ]
    },
    {
     "data": {
      "text/plain": [
       "[]"
      ]
     },
     "execution_count": 63,
     "metadata": {},
     "output_type": "execute_result"
    }
   ],
   "source": [
    "make_city_list()"
   ]
  },
  {
   "cell_type": "code",
   "execution_count": 64,
   "id": "db29e043-f5da-4c99-98b1-a20db1c9f39e",
   "metadata": {},
   "outputs": [
    {
     "name": "stdout",
     "output_type": "stream",
     "text": [
      "('Biarritz', 'Bayonne', 'Bidart')\n",
      "Biarritz Bayonne Bidart\n",
      "{}\n"
     ]
    },
    {
     "data": {
      "text/plain": [
       "[City(name='Biarritz', zipcode=None),\n",
       " City(name='Bayonne', zipcode=None),\n",
       " City(name='Bidart', zipcode=None)]"
      ]
     },
     "execution_count": 64,
     "metadata": {},
     "output_type": "execute_result"
    }
   ],
   "source": [
    "make_city_list(\"Biarritz\", \"Bayonne\", \"Bidart\")"
   ]
  },
  {
   "cell_type": "code",
   "execution_count": 65,
   "id": "5e3ef546-84e0-4129-ad03-f360d6756e72",
   "metadata": {},
   "outputs": [
    {
     "name": "stdout",
     "output_type": "stream",
     "text": [
      "('Biarritz', 'Bayonne', 'Bidart')\n",
      "Biarritz Bayonne Bidart\n",
      "{'department': 64, 'region': 'Nouvelle-Aquitaine', 'area': 3.14}\n",
      "Biarritz: 3.14\n",
      "Bayonne: 3.14\n",
      "Bidart: 3.14\n"
     ]
    }
   ],
   "source": [
    "cities = make_city_list(\"Biarritz\", \"Bayonne\", \"Bidart\", department=64, region=\"Nouvelle-Aquitaine\", area=3.14)\n",
    "for city in cities:\n",
    "    print(f\"{city.name}: {city.area}\")"
   ]
  },
  {
   "cell_type": "code",
   "execution_count": 66,
   "id": "6689062d-3ed1-49a4-aa06-6bee4b79b2df",
   "metadata": {},
   "outputs": [
    {
     "name": "stdout",
     "output_type": "stream",
     "text": [
      "Biarritz: 3.14\n",
      "Bayonne: 3.14\n",
      "Bidart: 3.14\n"
     ]
    }
   ],
   "source": [
    "cities = make_city_list2(\"Biarritz\", \"Bayonne\", \"Bidart\", department=64, region=\"Nouvelle-Aquitaine\", area=3.14)\n",
    "for city in cities:\n",
    "    print(f\"{city.name}: {city.area}\")"
   ]
  },
  {
   "cell_type": "code",
   "execution_count": 44,
   "id": "0273652d-bb28-4f1f-89e8-7c0000eae9b5",
   "metadata": {},
   "outputs": [],
   "source": [
    "def f(a, b):\n",
    "    return a + b"
   ]
  },
  {
   "cell_type": "code",
   "execution_count": 45,
   "id": "3a369e40-a938-48d5-bd80-94b10ebb8dae",
   "metadata": {},
   "outputs": [
    {
     "data": {
      "text/plain": [
       "7"
      ]
     },
     "execution_count": 45,
     "metadata": {},
     "output_type": "execute_result"
    }
   ],
   "source": [
    "f(3, 4)"
   ]
  },
  {
   "cell_type": "code",
   "execution_count": 52,
   "id": "af58af35-b9f3-4f5e-aad2-5f6fb6c15d48",
   "metadata": {},
   "outputs": [],
   "source": [
    "values = (3, 4)"
   ]
  },
  {
   "cell_type": "code",
   "execution_count": 53,
   "id": "75d4333e-e574-4b62-9c6c-a3000ceaf9cb",
   "metadata": {},
   "outputs": [
    {
     "data": {
      "text/plain": [
       "7"
      ]
     },
     "execution_count": 53,
     "metadata": {},
     "output_type": "execute_result"
    }
   ],
   "source": [
    "f(values[0], values[1])"
   ]
  },
  {
   "cell_type": "code",
   "execution_count": 54,
   "id": "6a4926cf-d9a3-44ea-89f3-70bdf6e6a8ae",
   "metadata": {},
   "outputs": [
    {
     "data": {
      "text/plain": [
       "7"
      ]
     },
     "execution_count": 54,
     "metadata": {},
     "output_type": "execute_result"
    }
   ],
   "source": [
    "f(*values)"
   ]
  },
  {
   "cell_type": "code",
   "execution_count": 56,
   "id": "9dbdc285-dfb7-40fa-b5ec-1b1691b3a0d4",
   "metadata": {},
   "outputs": [],
   "source": [
    "d = { 'a': 33, 'b': 44}"
   ]
  },
  {
   "cell_type": "code",
   "execution_count": 57,
   "id": "3eb8e6ac-b868-4d13-8626-22d1b63c01ad",
   "metadata": {},
   "outputs": [
    {
     "data": {
      "text/plain": [
       "77"
      ]
     },
     "execution_count": 57,
     "metadata": {},
     "output_type": "execute_result"
    }
   ],
   "source": [
    "f(d['a'], d['b'])"
   ]
  },
  {
   "cell_type": "code",
   "execution_count": 58,
   "id": "a311ee2a-ca0c-4856-a52e-5b35bcf247e6",
   "metadata": {},
   "outputs": [
    {
     "data": {
      "text/plain": [
       "77"
      ]
     },
     "execution_count": 58,
     "metadata": {},
     "output_type": "execute_result"
    }
   ],
   "source": [
    "f(**d)"
   ]
  }
 ],
 "metadata": {
  "kernelspec": {
   "display_name": "Python 3 (ipykernel)",
   "language": "python",
   "name": "python3"
  },
  "language_info": {
   "codemirror_mode": {
    "name": "ipython",
    "version": 3
   },
   "file_extension": ".py",
   "mimetype": "text/x-python",
   "name": "python",
   "nbconvert_exporter": "python",
   "pygments_lexer": "ipython3",
   "version": "3.12.8"
  }
 },
 "nbformat": 4,
 "nbformat_minor": 5
}
